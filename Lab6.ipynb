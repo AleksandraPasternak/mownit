{
 "cells": [
  {
   "cell_type": "markdown",
   "metadata": {},
   "source": [
    "# Lab6"
   ]
  },
  {
   "cell_type": "markdown",
   "metadata": {},
   "source": [
    "Do poszukiwania pierwiastków funkcji w Julii używamy pakietu Roots"
   ]
  },
  {
   "cell_type": "markdown",
   "metadata": {},
   "source": [
    "Więcej na https://github.com/JuliaMath/Roots.jl/blob/master/doc/roots.ipynb"
   ]
  },
  {
   "cell_type": "markdown",
   "metadata": {},
   "source": [
    "### Zadanie:\n",
    "\n",
    "A. Wybrać trzy metody poszukiwania pierwiastków: \n",
    "\n",
    "* wykorzystującą przedział i zmianę znaku, \n",
    "* wykorzystującą pochodną, \n",
    "* wykorzystującą przybliżenie pochodnej\n",
    "\n",
    "1.Każdą z trzech wybranych metod przetestować (ilość iteracji, ilość wywołań funkcji) na sześciu wybranych  funkcjach ze zbioru http://people.sc.fsu.edu/~jburkardt/py_src/test_zero/test_zero.html Wyniki przedstawić w formie tabelki. <b> Pamiętać o sprawdzeniu czy wynik jest poprawny poprzez obliczenie wartości funkcji dla znalezionego pierwiastka !</b>\n"
   ]
  },
  {
   "cell_type": "code",
   "execution_count": 1,
   "metadata": {},
   "outputs": [],
   "source": [
    "using Roots  \n",
    "using Plots\n",
    "using ForwardDiff\n",
    "using Plots"
   ]
  },
  {
   "cell_type": "code",
   "execution_count": 2,
   "metadata": {},
   "outputs": [
    {
     "data": {
      "text/plain": [
       "f6 (generic function with 1 method)"
      ]
     },
     "execution_count": 2,
     "metadata": {},
     "output_type": "execute_result"
    }
   ],
   "source": [
    "f1(x) = sin(x) - x/2 \n",
    "f2(x) = cos(x) - x\n",
    "f3(x) = x * exp(-x)\n",
    "f4(x) = 2 * x - exp(-x)\n",
    "f5(x) = x^3\n",
    "f6(x) = cos(100*x)-4*erf(30*x-10)"
   ]
  },
  {
   "cell_type": "markdown",
   "metadata": {},
   "source": [
    "<b> Metoda wykorzystująca przedział i zmianę znaku"
   ]
  },
  {
   "cell_type": "code",
   "execution_count": 3,
   "metadata": {},
   "outputs": [
    {
     "data": {
      "image/svg+xml": [
       "<?xml version=\"1.0\" encoding=\"utf-8\"?>\n",
       "<svg xmlns=\"http://www.w3.org/2000/svg\" xmlns:xlink=\"http://www.w3.org/1999/xlink\" width=\"600\" height=\"400\" viewBox=\"0 0 2400 1600\">\n",
       "<defs>\n",
       "  <clipPath id=\"clip1900\">\n",
       "    <rect x=\"0\" y=\"0\" width=\"2000\" height=\"2000\"/>\n",
       "  </clipPath>\n",
       "</defs>\n",
       "<defs>\n",
       "  <clipPath id=\"clip1901\">\n",
       "    <rect x=\"0\" y=\"0\" width=\"2400\" height=\"1600\"/>\n",
       "  </clipPath>\n",
       "</defs>\n",
       "<polygon clip-path=\"url(#clip1901)\" points=\"\n",
       "0,1600 2400,1600 2400,0 0,0 \n",
       "  \" fill=\"#ffffff\" fill-rule=\"evenodd\" fill-opacity=\"1\"/>\n",
       "<defs>\n",
       "  <clipPath id=\"clip1902\">\n",
       "    <rect x=\"480\" y=\"0\" width=\"1681\" height=\"1600\"/>\n",
       "  </clipPath>\n",
       "</defs>\n",
       "<polygon clip-path=\"url(#clip1901)\" points=\"\n",
       "149.361,1503.47 2321.26,1503.47 2321.26,47.2441 149.361,47.2441 \n",
       "  \" fill=\"#ffffff\" fill-rule=\"evenodd\" fill-opacity=\"1\"/>\n",
       "<defs>\n",
       "  <clipPath id=\"clip1903\">\n",
       "    <rect x=\"149\" y=\"47\" width=\"2173\" height=\"1457\"/>\n",
       "  </clipPath>\n",
       "</defs>\n",
       "<polyline clip-path=\"url(#clip1903)\" style=\"stroke:#000000; stroke-width:2; stroke-opacity:0.1; fill:none\" points=\"\n",
       "  411.853,1503.47 411.853,47.2441 \n",
       "  \"/>\n",
       "<polyline clip-path=\"url(#clip1903)\" style=\"stroke:#000000; stroke-width:2; stroke-opacity:0.1; fill:none\" points=\"\n",
       "  823.96,1503.47 823.96,47.2441 \n",
       "  \"/>\n",
       "<polyline clip-path=\"url(#clip1903)\" style=\"stroke:#000000; stroke-width:2; stroke-opacity:0.1; fill:none\" points=\"\n",
       "  1236.07,1503.47 1236.07,47.2441 \n",
       "  \"/>\n",
       "<polyline clip-path=\"url(#clip1903)\" style=\"stroke:#000000; stroke-width:2; stroke-opacity:0.1; fill:none\" points=\"\n",
       "  1648.18,1503.47 1648.18,47.2441 \n",
       "  \"/>\n",
       "<polyline clip-path=\"url(#clip1903)\" style=\"stroke:#000000; stroke-width:2; stroke-opacity:0.1; fill:none\" points=\"\n",
       "  2060.28,1503.47 2060.28,47.2441 \n",
       "  \"/>\n",
       "<polyline clip-path=\"url(#clip1903)\" style=\"stroke:#000000; stroke-width:2; stroke-opacity:0.1; fill:none\" points=\"\n",
       "  149.361,1372.42 2321.26,1372.42 \n",
       "  \"/>\n",
       "<polyline clip-path=\"url(#clip1903)\" style=\"stroke:#000000; stroke-width:2; stroke-opacity:0.1; fill:none\" points=\"\n",
       "  149.361,1173.46 2321.26,1173.46 \n",
       "  \"/>\n",
       "<polyline clip-path=\"url(#clip1903)\" style=\"stroke:#000000; stroke-width:2; stroke-opacity:0.1; fill:none\" points=\"\n",
       "  149.361,974.497 2321.26,974.497 \n",
       "  \"/>\n",
       "<polyline clip-path=\"url(#clip1903)\" style=\"stroke:#000000; stroke-width:2; stroke-opacity:0.1; fill:none\" points=\"\n",
       "  149.361,775.538 2321.26,775.538 \n",
       "  \"/>\n",
       "<polyline clip-path=\"url(#clip1903)\" style=\"stroke:#000000; stroke-width:2; stroke-opacity:0.1; fill:none\" points=\"\n",
       "  149.361,576.578 2321.26,576.578 \n",
       "  \"/>\n",
       "<polyline clip-path=\"url(#clip1903)\" style=\"stroke:#000000; stroke-width:2; stroke-opacity:0.1; fill:none\" points=\"\n",
       "  149.361,377.618 2321.26,377.618 \n",
       "  \"/>\n",
       "<polyline clip-path=\"url(#clip1903)\" style=\"stroke:#000000; stroke-width:2; stroke-opacity:0.1; fill:none\" points=\"\n",
       "  149.361,178.658 2321.26,178.658 \n",
       "  \"/>\n",
       "<polyline clip-path=\"url(#clip1901)\" style=\"stroke:#000000; stroke-width:4; stroke-opacity:1; fill:none\" points=\"\n",
       "  149.361,1503.47 2321.26,1503.47 \n",
       "  \"/>\n",
       "<polyline clip-path=\"url(#clip1901)\" style=\"stroke:#000000; stroke-width:4; stroke-opacity:1; fill:none\" points=\"\n",
       "  149.361,1503.47 149.361,47.2441 \n",
       "  \"/>\n",
       "<polyline clip-path=\"url(#clip1901)\" style=\"stroke:#000000; stroke-width:4; stroke-opacity:1; fill:none\" points=\"\n",
       "  411.853,1503.47 411.853,1481.63 \n",
       "  \"/>\n",
       "<polyline clip-path=\"url(#clip1901)\" style=\"stroke:#000000; stroke-width:4; stroke-opacity:1; fill:none\" points=\"\n",
       "  823.96,1503.47 823.96,1481.63 \n",
       "  \"/>\n",
       "<polyline clip-path=\"url(#clip1901)\" style=\"stroke:#000000; stroke-width:4; stroke-opacity:1; fill:none\" points=\"\n",
       "  1236.07,1503.47 1236.07,1481.63 \n",
       "  \"/>\n",
       "<polyline clip-path=\"url(#clip1901)\" style=\"stroke:#000000; stroke-width:4; stroke-opacity:1; fill:none\" points=\"\n",
       "  1648.18,1503.47 1648.18,1481.63 \n",
       "  \"/>\n",
       "<polyline clip-path=\"url(#clip1901)\" style=\"stroke:#000000; stroke-width:4; stroke-opacity:1; fill:none\" points=\"\n",
       "  2060.28,1503.47 2060.28,1481.63 \n",
       "  \"/>\n",
       "<polyline clip-path=\"url(#clip1901)\" style=\"stroke:#000000; stroke-width:4; stroke-opacity:1; fill:none\" points=\"\n",
       "  149.361,1372.42 181.939,1372.42 \n",
       "  \"/>\n",
       "<polyline clip-path=\"url(#clip1901)\" style=\"stroke:#000000; stroke-width:4; stroke-opacity:1; fill:none\" points=\"\n",
       "  149.361,1173.46 181.939,1173.46 \n",
       "  \"/>\n",
       "<polyline clip-path=\"url(#clip1901)\" style=\"stroke:#000000; stroke-width:4; stroke-opacity:1; fill:none\" points=\"\n",
       "  149.361,974.497 181.939,974.497 \n",
       "  \"/>\n",
       "<polyline clip-path=\"url(#clip1901)\" style=\"stroke:#000000; stroke-width:4; stroke-opacity:1; fill:none\" points=\"\n",
       "  149.361,775.538 181.939,775.538 \n",
       "  \"/>\n",
       "<polyline clip-path=\"url(#clip1901)\" style=\"stroke:#000000; stroke-width:4; stroke-opacity:1; fill:none\" points=\"\n",
       "  149.361,576.578 181.939,576.578 \n",
       "  \"/>\n",
       "<polyline clip-path=\"url(#clip1901)\" style=\"stroke:#000000; stroke-width:4; stroke-opacity:1; fill:none\" points=\"\n",
       "  149.361,377.618 181.939,377.618 \n",
       "  \"/>\n",
       "<polyline clip-path=\"url(#clip1901)\" style=\"stroke:#000000; stroke-width:4; stroke-opacity:1; fill:none\" points=\"\n",
       "  149.361,178.658 181.939,178.658 \n",
       "  \"/>\n",
       "<g clip-path=\"url(#clip1901)\">\n",
       "<text style=\"fill:#000000; fill-opacity:1; font-family:Arial,Helvetica Neue,Helvetica,sans-serif; font-size:48px; text-anchor:middle;\" transform=\"rotate(0, 411.853, 1557.47)\" x=\"411.853\" y=\"1557.47\">-4</text>\n",
       "</g>\n",
       "<g clip-path=\"url(#clip1901)\">\n",
       "<text style=\"fill:#000000; fill-opacity:1; font-family:Arial,Helvetica Neue,Helvetica,sans-serif; font-size:48px; text-anchor:middle;\" transform=\"rotate(0, 823.96, 1557.47)\" x=\"823.96\" y=\"1557.47\">-2</text>\n",
       "</g>\n",
       "<g clip-path=\"url(#clip1901)\">\n",
       "<text style=\"fill:#000000; fill-opacity:1; font-family:Arial,Helvetica Neue,Helvetica,sans-serif; font-size:48px; text-anchor:middle;\" transform=\"rotate(0, 1236.07, 1557.47)\" x=\"1236.07\" y=\"1557.47\">0</text>\n",
       "</g>\n",
       "<g clip-path=\"url(#clip1901)\">\n",
       "<text style=\"fill:#000000; fill-opacity:1; font-family:Arial,Helvetica Neue,Helvetica,sans-serif; font-size:48px; text-anchor:middle;\" transform=\"rotate(0, 1648.18, 1557.47)\" x=\"1648.18\" y=\"1557.47\">2</text>\n",
       "</g>\n",
       "<g clip-path=\"url(#clip1901)\">\n",
       "<text style=\"fill:#000000; fill-opacity:1; font-family:Arial,Helvetica Neue,Helvetica,sans-serif; font-size:48px; text-anchor:middle;\" transform=\"rotate(0, 2060.28, 1557.47)\" x=\"2060.28\" y=\"1557.47\">4</text>\n",
       "</g>\n",
       "<g clip-path=\"url(#clip1901)\">\n",
       "<text style=\"fill:#000000; fill-opacity:1; font-family:Arial,Helvetica Neue,Helvetica,sans-serif; font-size:48px; text-anchor:end;\" transform=\"rotate(0, 125.361, 1389.92)\" x=\"125.361\" y=\"1389.92\">-3</text>\n",
       "</g>\n",
       "<g clip-path=\"url(#clip1901)\">\n",
       "<text style=\"fill:#000000; fill-opacity:1; font-family:Arial,Helvetica Neue,Helvetica,sans-serif; font-size:48px; text-anchor:end;\" transform=\"rotate(0, 125.361, 1190.96)\" x=\"125.361\" y=\"1190.96\">-2</text>\n",
       "</g>\n",
       "<g clip-path=\"url(#clip1901)\">\n",
       "<text style=\"fill:#000000; fill-opacity:1; font-family:Arial,Helvetica Neue,Helvetica,sans-serif; font-size:48px; text-anchor:end;\" transform=\"rotate(0, 125.361, 991.997)\" x=\"125.361\" y=\"991.997\">-1</text>\n",
       "</g>\n",
       "<g clip-path=\"url(#clip1901)\">\n",
       "<text style=\"fill:#000000; fill-opacity:1; font-family:Arial,Helvetica Neue,Helvetica,sans-serif; font-size:48px; text-anchor:end;\" transform=\"rotate(0, 125.361, 793.038)\" x=\"125.361\" y=\"793.038\">0</text>\n",
       "</g>\n",
       "<g clip-path=\"url(#clip1901)\">\n",
       "<text style=\"fill:#000000; fill-opacity:1; font-family:Arial,Helvetica Neue,Helvetica,sans-serif; font-size:48px; text-anchor:end;\" transform=\"rotate(0, 125.361, 594.078)\" x=\"125.361\" y=\"594.078\">1</text>\n",
       "</g>\n",
       "<g clip-path=\"url(#clip1901)\">\n",
       "<text style=\"fill:#000000; fill-opacity:1; font-family:Arial,Helvetica Neue,Helvetica,sans-serif; font-size:48px; text-anchor:end;\" transform=\"rotate(0, 125.361, 395.118)\" x=\"125.361\" y=\"395.118\">2</text>\n",
       "</g>\n",
       "<g clip-path=\"url(#clip1901)\">\n",
       "<text style=\"fill:#000000; fill-opacity:1; font-family:Arial,Helvetica Neue,Helvetica,sans-serif; font-size:48px; text-anchor:end;\" transform=\"rotate(0, 125.361, 196.158)\" x=\"125.361\" y=\"196.158\">3</text>\n",
       "</g>\n",
       "<polyline clip-path=\"url(#clip1903)\" style=\"stroke:#009af9; stroke-width:4; stroke-opacity:1; fill:none\" points=\"\n",
       "  210.829,88.4582 215.86,89.6805 220.891,91.0181 225.922,92.4716 272.438,111.478 318.954,140.574 342.212,158.82 365.47,179.423 388.728,202.263 411.986,227.193 \n",
       "  467.895,294.572 523.804,370.006 571.074,437.459 618.344,505.804 669.692,578.277 721.041,646.044 768.379,702.052 815.718,750.056 841.094,772.015 866.47,791.139 \n",
       "  891.846,807.323 917.222,820.509 946.623,832.019 976.024,839.542 1005.42,843.212 1034.83,843.244 1087.08,835.255 1139.34,818.845 1185.16,799.617 1230.98,777.992 \n",
       "  1280.94,754.214 1330.9,732.951 1381.16,716.783 1431.42,708.238 1459.2,707.519 1486.98,709.989 1514.77,715.849 1542.55,725.234 1568.98,737.504 1595.42,753.042 \n",
       "  1621.85,771.8 1648.29,793.681 1675.77,819.582 1703.26,848.472 1730.74,880.074 1758.23,914.061 1804.5,975.633 1850.78,1040.94 1907.27,1122.58 1963.77,1202.51 \n",
       "  2016.88,1272.55 2069.99,1334.67 2112.53,1377.06 2155.07,1411.87 2197.61,1438.51 2240.15,1456.7 2246.7,1458.75 2253.24,1460.6 2259.79,1462.26 \n",
       "  \"/>\n",
       "<polygon clip-path=\"url(#clip1901)\" points=\"\n",
       "1969.12,251.724 2249.26,251.724 2249.26,130.764 1969.12,130.764 \n",
       "  \" fill=\"#ffffff\" fill-rule=\"evenodd\" fill-opacity=\"1\"/>\n",
       "<polyline clip-path=\"url(#clip1901)\" style=\"stroke:#000000; stroke-width:4; stroke-opacity:1; fill:none\" points=\"\n",
       "  1969.12,251.724 2249.26,251.724 2249.26,130.764 1969.12,130.764 1969.12,251.724 \n",
       "  \"/>\n",
       "<polyline clip-path=\"url(#clip1901)\" style=\"stroke:#009af9; stroke-width:4; stroke-opacity:1; fill:none\" points=\"\n",
       "  1993.12,191.244 2137.12,191.244 \n",
       "  \"/>\n",
       "<g clip-path=\"url(#clip1901)\">\n",
       "<text style=\"fill:#000000; fill-opacity:1; font-family:Arial,Helvetica Neue,Helvetica,sans-serif; font-size:48px; text-anchor:start;\" transform=\"rotate(0, 2161.12, 208.744)\" x=\"2161.12\" y=\"208.744\">f1</text>\n",
       "</g>\n",
       "</svg>\n"
      ]
     },
     "execution_count": 3,
     "metadata": {},
     "output_type": "execute_result"
    }
   ],
   "source": [
    "f1(x) = sin(x) - x/2 \n",
    "plot(f1, -5, 5, label = \"f1\")"
   ]
  },
  {
   "cell_type": "code",
   "execution_count": 4,
   "metadata": {},
   "outputs": [
    {
     "name": "stdout",
     "output_type": "stream",
     "text": [
      "Results of univariate zero finding:\n",
      "\n",
      "* Converged to: 1.895494267033981\n",
      "* Algorithm: FalsePosition{:anderson_bjork}()\n",
      "* iterations: 9\n",
      "* function evaluations: 11\n",
      "* stopped as |f(x_n)| ≤ max(δ, max(1,|x|)⋅ϵ) using δ = atol, ϵ = rtol\n",
      "\n",
      "Trace:\n",
      "(a_0, b_0) = ( 0.0000000000000000,  5.0000000000000000)\n",
      "(a_1, b_1) = ( 0.0000000000000000,  2.5000000000000000)\n",
      "(a_2, b_2) = ( 2.5000000000000000,  1.2500000000000000)\n",
      "(a_3, b_3) = ( 2.5000000000000000,  1.6651466890159652)\n",
      "(a_4, b_4) = ( 1.6651466890159652,  1.9446763851217526)\n",
      "(a_5, b_5) = ( 1.9446763851217526,  1.8880306380481127)\n",
      "(a_6, b_6) = ( 1.9446763851217526,  1.8952878661159387)\n",
      "(a_7, b_7) = ( 1.8952878661159387,  1.8954942966408586)\n",
      "(a_8, b_8) = ( 1.8954942966408586,  1.8954942670304449)\n",
      "(a_9, b_9) = ( 1.8954942966408586,  1.8954942670339809)\n",
      "\n"
     ]
    },
    {
     "data": {
      "text/plain": [
       "true"
      ]
     },
     "execution_count": 4,
     "metadata": {},
     "output_type": "execute_result"
    }
   ],
   "source": [
    "x1 = find_zero(f1, (-5, 5), FalsePosition(), verbose=true)\n",
    "iszero(f1(x1))"
   ]
  },
  {
   "cell_type": "code",
   "execution_count": 5,
   "metadata": {},
   "outputs": [
    {
     "data": {
      "image/svg+xml": [
       "<?xml version=\"1.0\" encoding=\"utf-8\"?>\n",
       "<svg xmlns=\"http://www.w3.org/2000/svg\" xmlns:xlink=\"http://www.w3.org/1999/xlink\" width=\"600\" height=\"400\" viewBox=\"0 0 2400 1600\">\n",
       "<defs>\n",
       "  <clipPath id=\"clip2100\">\n",
       "    <rect x=\"0\" y=\"0\" width=\"2000\" height=\"2000\"/>\n",
       "  </clipPath>\n",
       "</defs>\n",
       "<defs>\n",
       "  <clipPath id=\"clip2101\">\n",
       "    <rect x=\"0\" y=\"0\" width=\"2400\" height=\"1600\"/>\n",
       "  </clipPath>\n",
       "</defs>\n",
       "<polygon clip-path=\"url(#clip2101)\" points=\"\n",
       "0,1600 2400,1600 2400,0 0,0 \n",
       "  \" fill=\"#ffffff\" fill-rule=\"evenodd\" fill-opacity=\"1\"/>\n",
       "<defs>\n",
       "  <clipPath id=\"clip2102\">\n",
       "    <rect x=\"480\" y=\"0\" width=\"1681\" height=\"1600\"/>\n",
       "  </clipPath>\n",
       "</defs>\n",
       "<polygon clip-path=\"url(#clip2101)\" points=\"\n",
       "202.885,1503.47 2321.26,1503.47 2321.26,47.2441 202.885,47.2441 \n",
       "  \" fill=\"#ffffff\" fill-rule=\"evenodd\" fill-opacity=\"1\"/>\n",
       "<defs>\n",
       "  <clipPath id=\"clip2103\">\n",
       "    <rect x=\"202\" y=\"47\" width=\"2119\" height=\"1457\"/>\n",
       "  </clipPath>\n",
       "</defs>\n",
       "<polyline clip-path=\"url(#clip2103)\" style=\"stroke:#000000; stroke-width:2; stroke-opacity:0.1; fill:none\" points=\"\n",
       "  460.806,1503.47 460.806,47.2441 \n",
       "  \"/>\n",
       "<polyline clip-path=\"url(#clip2103)\" style=\"stroke:#000000; stroke-width:2; stroke-opacity:0.1; fill:none\" points=\"\n",
       "  866.648,1503.47 866.648,47.2441 \n",
       "  \"/>\n",
       "<polyline clip-path=\"url(#clip2103)\" style=\"stroke:#000000; stroke-width:2; stroke-opacity:0.1; fill:none\" points=\"\n",
       "  1272.49,1503.47 1272.49,47.2441 \n",
       "  \"/>\n",
       "<polyline clip-path=\"url(#clip2103)\" style=\"stroke:#000000; stroke-width:2; stroke-opacity:0.1; fill:none\" points=\"\n",
       "  1678.33,1503.47 1678.33,47.2441 \n",
       "  \"/>\n",
       "<polyline clip-path=\"url(#clip2103)\" style=\"stroke:#000000; stroke-width:2; stroke-opacity:0.1; fill:none\" points=\"\n",
       "  2084.17,1503.47 2084.17,47.2441 \n",
       "  \"/>\n",
       "<polyline clip-path=\"url(#clip2103)\" style=\"stroke:#000000; stroke-width:2; stroke-opacity:0.1; fill:none\" points=\"\n",
       "  202.885,1422.31 2321.26,1422.31 \n",
       "  \"/>\n",
       "<polyline clip-path=\"url(#clip2103)\" style=\"stroke:#000000; stroke-width:2; stroke-opacity:0.1; fill:none\" points=\"\n",
       "  202.885,1004.8 2321.26,1004.8 \n",
       "  \"/>\n",
       "<polyline clip-path=\"url(#clip2103)\" style=\"stroke:#000000; stroke-width:2; stroke-opacity:0.1; fill:none\" points=\"\n",
       "  202.885,587.285 2321.26,587.285 \n",
       "  \"/>\n",
       "<polyline clip-path=\"url(#clip2103)\" style=\"stroke:#000000; stroke-width:2; stroke-opacity:0.1; fill:none\" points=\"\n",
       "  202.885,169.774 2321.26,169.774 \n",
       "  \"/>\n",
       "<polyline clip-path=\"url(#clip2101)\" style=\"stroke:#000000; stroke-width:4; stroke-opacity:1; fill:none\" points=\"\n",
       "  202.885,1503.47 2321.26,1503.47 \n",
       "  \"/>\n",
       "<polyline clip-path=\"url(#clip2101)\" style=\"stroke:#000000; stroke-width:4; stroke-opacity:1; fill:none\" points=\"\n",
       "  202.885,1503.47 202.885,47.2441 \n",
       "  \"/>\n",
       "<polyline clip-path=\"url(#clip2101)\" style=\"stroke:#000000; stroke-width:4; stroke-opacity:1; fill:none\" points=\"\n",
       "  460.806,1503.47 460.806,1481.63 \n",
       "  \"/>\n",
       "<polyline clip-path=\"url(#clip2101)\" style=\"stroke:#000000; stroke-width:4; stroke-opacity:1; fill:none\" points=\"\n",
       "  866.648,1503.47 866.648,1481.63 \n",
       "  \"/>\n",
       "<polyline clip-path=\"url(#clip2101)\" style=\"stroke:#000000; stroke-width:4; stroke-opacity:1; fill:none\" points=\"\n",
       "  1272.49,1503.47 1272.49,1481.63 \n",
       "  \"/>\n",
       "<polyline clip-path=\"url(#clip2101)\" style=\"stroke:#000000; stroke-width:4; stroke-opacity:1; fill:none\" points=\"\n",
       "  1678.33,1503.47 1678.33,1481.63 \n",
       "  \"/>\n",
       "<polyline clip-path=\"url(#clip2101)\" style=\"stroke:#000000; stroke-width:4; stroke-opacity:1; fill:none\" points=\"\n",
       "  2084.17,1503.47 2084.17,1481.63 \n",
       "  \"/>\n",
       "<polyline clip-path=\"url(#clip2101)\" style=\"stroke:#000000; stroke-width:4; stroke-opacity:1; fill:none\" points=\"\n",
       "  202.885,1422.31 234.661,1422.31 \n",
       "  \"/>\n",
       "<polyline clip-path=\"url(#clip2101)\" style=\"stroke:#000000; stroke-width:4; stroke-opacity:1; fill:none\" points=\"\n",
       "  202.885,1004.8 234.661,1004.8 \n",
       "  \"/>\n",
       "<polyline clip-path=\"url(#clip2101)\" style=\"stroke:#000000; stroke-width:4; stroke-opacity:1; fill:none\" points=\"\n",
       "  202.885,587.285 234.661,587.285 \n",
       "  \"/>\n",
       "<polyline clip-path=\"url(#clip2101)\" style=\"stroke:#000000; stroke-width:4; stroke-opacity:1; fill:none\" points=\"\n",
       "  202.885,169.774 234.661,169.774 \n",
       "  \"/>\n",
       "<g clip-path=\"url(#clip2101)\">\n",
       "<text style=\"fill:#000000; fill-opacity:1; font-family:Arial,Helvetica Neue,Helvetica,sans-serif; font-size:48px; text-anchor:middle;\" transform=\"rotate(0, 460.806, 1557.47)\" x=\"460.806\" y=\"1557.47\">-4</text>\n",
       "</g>\n",
       "<g clip-path=\"url(#clip2101)\">\n",
       "<text style=\"fill:#000000; fill-opacity:1; font-family:Arial,Helvetica Neue,Helvetica,sans-serif; font-size:48px; text-anchor:middle;\" transform=\"rotate(0, 866.648, 1557.47)\" x=\"866.648\" y=\"1557.47\">-2</text>\n",
       "</g>\n",
       "<g clip-path=\"url(#clip2101)\">\n",
       "<text style=\"fill:#000000; fill-opacity:1; font-family:Arial,Helvetica Neue,Helvetica,sans-serif; font-size:48px; text-anchor:middle;\" transform=\"rotate(0, 1272.49, 1557.47)\" x=\"1272.49\" y=\"1557.47\">0</text>\n",
       "</g>\n",
       "<g clip-path=\"url(#clip2101)\">\n",
       "<text style=\"fill:#000000; fill-opacity:1; font-family:Arial,Helvetica Neue,Helvetica,sans-serif; font-size:48px; text-anchor:middle;\" transform=\"rotate(0, 1678.33, 1557.47)\" x=\"1678.33\" y=\"1557.47\">2</text>\n",
       "</g>\n",
       "<g clip-path=\"url(#clip2101)\">\n",
       "<text style=\"fill:#000000; fill-opacity:1; font-family:Arial,Helvetica Neue,Helvetica,sans-serif; font-size:48px; text-anchor:middle;\" transform=\"rotate(0, 2084.17, 1557.47)\" x=\"2084.17\" y=\"1557.47\">4</text>\n",
       "</g>\n",
       "<g clip-path=\"url(#clip2101)\">\n",
       "<text style=\"fill:#000000; fill-opacity:1; font-family:Arial,Helvetica Neue,Helvetica,sans-serif; font-size:48px; text-anchor:end;\" transform=\"rotate(0, 178.885, 1439.81)\" x=\"178.885\" y=\"1439.81\">-150</text>\n",
       "</g>\n",
       "<g clip-path=\"url(#clip2101)\">\n",
       "<text style=\"fill:#000000; fill-opacity:1; font-family:Arial,Helvetica Neue,Helvetica,sans-serif; font-size:48px; text-anchor:end;\" transform=\"rotate(0, 178.885, 1022.3)\" x=\"178.885\" y=\"1022.3\">-100</text>\n",
       "</g>\n",
       "<g clip-path=\"url(#clip2101)\">\n",
       "<text style=\"fill:#000000; fill-opacity:1; font-family:Arial,Helvetica Neue,Helvetica,sans-serif; font-size:48px; text-anchor:end;\" transform=\"rotate(0, 178.885, 604.785)\" x=\"178.885\" y=\"604.785\">-50</text>\n",
       "</g>\n",
       "<g clip-path=\"url(#clip2101)\">\n",
       "<text style=\"fill:#000000; fill-opacity:1; font-family:Arial,Helvetica Neue,Helvetica,sans-serif; font-size:48px; text-anchor:end;\" transform=\"rotate(0, 178.885, 187.274)\" x=\"178.885\" y=\"187.274\">0</text>\n",
       "</g>\n",
       "<polyline clip-path=\"url(#clip2103)\" style=\"stroke:#009af9; stroke-width:4; stroke-opacity:1; fill:none\" points=\"\n",
       "  262.839,1462.26 267.794,1432.68 272.748,1403.81 277.702,1375.62 300.606,1253.77 323.511,1144.72 346.415,1047.11 369.32,959.714 392.224,881.447 415.129,811.333 \n",
       "  438.033,748.502 460.938,692.176 488.467,632.109 515.996,579.375 543.526,533.044 571.055,492.303 617.606,434.189 664.158,387.203 714.725,346.125 765.293,313.19 \n",
       "  811.912,288.484 858.531,268.061 958.492,234.855 1074.31,208.259 1177.23,190.967 1267.48,178.745 1365.88,167.358 1464.87,157.177 1574.31,146.821 1678.44,137.494 \n",
       "  1786.71,128.116 1877.85,120.375 1989.13,111.039 2093.73,102.332 2261.31,88.4582 \n",
       "  \"/>\n",
       "<polygon clip-path=\"url(#clip2101)\" points=\"\n",
       "1969.12,251.724 2249.26,251.724 2249.26,130.764 1969.12,130.764 \n",
       "  \" fill=\"#ffffff\" fill-rule=\"evenodd\" fill-opacity=\"1\"/>\n",
       "<polyline clip-path=\"url(#clip2101)\" style=\"stroke:#000000; stroke-width:4; stroke-opacity:1; fill:none\" points=\"\n",
       "  1969.12,251.724 2249.26,251.724 2249.26,130.764 1969.12,130.764 1969.12,251.724 \n",
       "  \"/>\n",
       "<polyline clip-path=\"url(#clip2101)\" style=\"stroke:#009af9; stroke-width:4; stroke-opacity:1; fill:none\" points=\"\n",
       "  1993.12,191.244 2137.12,191.244 \n",
       "  \"/>\n",
       "<g clip-path=\"url(#clip2101)\">\n",
       "<text style=\"fill:#000000; fill-opacity:1; font-family:Arial,Helvetica Neue,Helvetica,sans-serif; font-size:48px; text-anchor:start;\" transform=\"rotate(0, 2161.12, 208.744)\" x=\"2161.12\" y=\"208.744\">f2</text>\n",
       "</g>\n",
       "</svg>\n"
      ]
     },
     "execution_count": 5,
     "metadata": {},
     "output_type": "execute_result"
    }
   ],
   "source": [
    "f2(x) = 2 * x - exp(-x)\n",
    "plot(f2, -5, 5, label = \"f2\")"
   ]
  },
  {
   "cell_type": "code",
   "execution_count": 6,
   "metadata": {},
   "outputs": [
    {
     "name": "stdout",
     "output_type": "stream",
     "text": [
      "Results of univariate zero finding:\n",
      "\n",
      "* Converged to: 0.35173371124919584\n",
      "* Algorithm: FalsePosition{:anderson_bjork}()\n",
      "* iterations: 7\n",
      "* function evaluations: 9\n",
      "* stopped as |f(x_n)| ≤ max(δ, max(1,|x|)⋅ϵ) using δ = atol, ϵ = rtol\n",
      "\n",
      "Trace:\n",
      "(a_0, b_0) = ( 0.0000000000000000,  5.0000000000000000)\n",
      "(a_1, b_1) = ( 0.0000000000000000,  2.5000000000000000)\n",
      "(a_2, b_2) = ( 2.5000000000000000,  0.2307160595325901)\n",
      "(a_3, b_3) = ( 0.2307160595325901,  0.3744392757046812)\n",
      "(a_4, b_4) = ( 0.2307160595325901,  0.3520984362668378)\n",
      "(a_5, b_5) = ( 0.2307160595325901,  0.3517337379126361)\n",
      "(a_6, b_6) = ( 0.3517337379126361,  0.3517337112479366)\n",
      "(a_7, b_7) = ( 0.3517337379126361,  0.3517337112491958)\n",
      "\n"
     ]
    },
    {
     "data": {
      "text/plain": [
       "true"
      ]
     },
     "execution_count": 6,
     "metadata": {},
     "output_type": "execute_result"
    }
   ],
   "source": [
    "x2 = find_zero(f2, (-5, 5), FalsePosition(), verbose=true)\n",
    "iszero(f2(x2))"
   ]
  },
  {
   "cell_type": "code",
   "execution_count": 7,
   "metadata": {},
   "outputs": [
    {
     "data": {
      "image/svg+xml": [
       "<?xml version=\"1.0\" encoding=\"utf-8\"?>\n",
       "<svg xmlns=\"http://www.w3.org/2000/svg\" xmlns:xlink=\"http://www.w3.org/1999/xlink\" width=\"600\" height=\"400\" viewBox=\"0 0 2400 1600\">\n",
       "<defs>\n",
       "  <clipPath id=\"clip2300\">\n",
       "    <rect x=\"0\" y=\"0\" width=\"2000\" height=\"2000\"/>\n",
       "  </clipPath>\n",
       "</defs>\n",
       "<defs>\n",
       "  <clipPath id=\"clip2301\">\n",
       "    <rect x=\"0\" y=\"0\" width=\"2400\" height=\"1600\"/>\n",
       "  </clipPath>\n",
       "</defs>\n",
       "<polygon clip-path=\"url(#clip2301)\" points=\"\n",
       "0,1600 2400,1600 2400,0 0,0 \n",
       "  \" fill=\"#ffffff\" fill-rule=\"evenodd\" fill-opacity=\"1\"/>\n",
       "<defs>\n",
       "  <clipPath id=\"clip2302\">\n",
       "    <rect x=\"480\" y=\"0\" width=\"1681\" height=\"1600\"/>\n",
       "  </clipPath>\n",
       "</defs>\n",
       "<polygon clip-path=\"url(#clip2301)\" points=\"\n",
       "176.123,1503.47 2321.26,1503.47 2321.26,47.2441 176.123,47.2441 \n",
       "  \" fill=\"#ffffff\" fill-rule=\"evenodd\" fill-opacity=\"1\"/>\n",
       "<defs>\n",
       "  <clipPath id=\"clip2303\">\n",
       "    <rect x=\"176\" y=\"47\" width=\"2146\" height=\"1457\"/>\n",
       "  </clipPath>\n",
       "</defs>\n",
       "<polyline clip-path=\"url(#clip2303)\" style=\"stroke:#000000; stroke-width:2; stroke-opacity:0.1; fill:none\" points=\"\n",
       "  231.818,1503.47 231.818,47.2441 \n",
       "  \"/>\n",
       "<polyline clip-path=\"url(#clip2303)\" style=\"stroke:#000000; stroke-width:2; stroke-opacity:0.1; fill:none\" points=\"\n",
       "  688.45,1503.47 688.45,47.2441 \n",
       "  \"/>\n",
       "<polyline clip-path=\"url(#clip2303)\" style=\"stroke:#000000; stroke-width:2; stroke-opacity:0.1; fill:none\" points=\"\n",
       "  1145.08,1503.47 1145.08,47.2441 \n",
       "  \"/>\n",
       "<polyline clip-path=\"url(#clip2303)\" style=\"stroke:#000000; stroke-width:2; stroke-opacity:0.1; fill:none\" points=\"\n",
       "  1601.72,1503.47 1601.72,47.2441 \n",
       "  \"/>\n",
       "<polyline clip-path=\"url(#clip2303)\" style=\"stroke:#000000; stroke-width:2; stroke-opacity:0.1; fill:none\" points=\"\n",
       "  2058.35,1503.47 2058.35,47.2441 \n",
       "  \"/>\n",
       "<polyline clip-path=\"url(#clip2303)\" style=\"stroke:#000000; stroke-width:2; stroke-opacity:0.1; fill:none\" points=\"\n",
       "  176.123,1228.45 2321.26,1228.45 \n",
       "  \"/>\n",
       "<polyline clip-path=\"url(#clip2303)\" style=\"stroke:#000000; stroke-width:2; stroke-opacity:0.1; fill:none\" points=\"\n",
       "  176.123,951.903 2321.26,951.903 \n",
       "  \"/>\n",
       "<polyline clip-path=\"url(#clip2303)\" style=\"stroke:#000000; stroke-width:2; stroke-opacity:0.1; fill:none\" points=\"\n",
       "  176.123,675.353 2321.26,675.353 \n",
       "  \"/>\n",
       "<polyline clip-path=\"url(#clip2303)\" style=\"stroke:#000000; stroke-width:2; stroke-opacity:0.1; fill:none\" points=\"\n",
       "  176.123,398.804 2321.26,398.804 \n",
       "  \"/>\n",
       "<polyline clip-path=\"url(#clip2303)\" style=\"stroke:#000000; stroke-width:2; stroke-opacity:0.1; fill:none\" points=\"\n",
       "  176.123,122.254 2321.26,122.254 \n",
       "  \"/>\n",
       "<polyline clip-path=\"url(#clip2301)\" style=\"stroke:#000000; stroke-width:4; stroke-opacity:1; fill:none\" points=\"\n",
       "  176.123,1503.47 2321.26,1503.47 \n",
       "  \"/>\n",
       "<polyline clip-path=\"url(#clip2301)\" style=\"stroke:#000000; stroke-width:4; stroke-opacity:1; fill:none\" points=\"\n",
       "  176.123,1503.47 176.123,47.2441 \n",
       "  \"/>\n",
       "<polyline clip-path=\"url(#clip2301)\" style=\"stroke:#000000; stroke-width:4; stroke-opacity:1; fill:none\" points=\"\n",
       "  231.818,1503.47 231.818,1481.63 \n",
       "  \"/>\n",
       "<polyline clip-path=\"url(#clip2301)\" style=\"stroke:#000000; stroke-width:4; stroke-opacity:1; fill:none\" points=\"\n",
       "  688.45,1503.47 688.45,1481.63 \n",
       "  \"/>\n",
       "<polyline clip-path=\"url(#clip2301)\" style=\"stroke:#000000; stroke-width:4; stroke-opacity:1; fill:none\" points=\"\n",
       "  1145.08,1503.47 1145.08,1481.63 \n",
       "  \"/>\n",
       "<polyline clip-path=\"url(#clip2301)\" style=\"stroke:#000000; stroke-width:4; stroke-opacity:1; fill:none\" points=\"\n",
       "  1601.72,1503.47 1601.72,1481.63 \n",
       "  \"/>\n",
       "<polyline clip-path=\"url(#clip2301)\" style=\"stroke:#000000; stroke-width:4; stroke-opacity:1; fill:none\" points=\"\n",
       "  2058.35,1503.47 2058.35,1481.63 \n",
       "  \"/>\n",
       "<polyline clip-path=\"url(#clip2301)\" style=\"stroke:#000000; stroke-width:4; stroke-opacity:1; fill:none\" points=\"\n",
       "  176.123,1228.45 208.3,1228.45 \n",
       "  \"/>\n",
       "<polyline clip-path=\"url(#clip2301)\" style=\"stroke:#000000; stroke-width:4; stroke-opacity:1; fill:none\" points=\"\n",
       "  176.123,951.903 208.3,951.903 \n",
       "  \"/>\n",
       "<polyline clip-path=\"url(#clip2301)\" style=\"stroke:#000000; stroke-width:4; stroke-opacity:1; fill:none\" points=\"\n",
       "  176.123,675.353 208.3,675.353 \n",
       "  \"/>\n",
       "<polyline clip-path=\"url(#clip2301)\" style=\"stroke:#000000; stroke-width:4; stroke-opacity:1; fill:none\" points=\"\n",
       "  176.123,398.804 208.3,398.804 \n",
       "  \"/>\n",
       "<polyline clip-path=\"url(#clip2301)\" style=\"stroke:#000000; stroke-width:4; stroke-opacity:1; fill:none\" points=\"\n",
       "  176.123,122.254 208.3,122.254 \n",
       "  \"/>\n",
       "<g clip-path=\"url(#clip2301)\">\n",
       "<text style=\"fill:#000000; fill-opacity:1; font-family:Arial,Helvetica Neue,Helvetica,sans-serif; font-size:48px; text-anchor:middle;\" transform=\"rotate(0, 231.818, 1557.47)\" x=\"231.818\" y=\"1557.47\">-2</text>\n",
       "</g>\n",
       "<g clip-path=\"url(#clip2301)\">\n",
       "<text style=\"fill:#000000; fill-opacity:1; font-family:Arial,Helvetica Neue,Helvetica,sans-serif; font-size:48px; text-anchor:middle;\" transform=\"rotate(0, 688.45, 1557.47)\" x=\"688.45\" y=\"1557.47\">-1</text>\n",
       "</g>\n",
       "<g clip-path=\"url(#clip2301)\">\n",
       "<text style=\"fill:#000000; fill-opacity:1; font-family:Arial,Helvetica Neue,Helvetica,sans-serif; font-size:48px; text-anchor:middle;\" transform=\"rotate(0, 1145.08, 1557.47)\" x=\"1145.08\" y=\"1557.47\">0</text>\n",
       "</g>\n",
       "<g clip-path=\"url(#clip2301)\">\n",
       "<text style=\"fill:#000000; fill-opacity:1; font-family:Arial,Helvetica Neue,Helvetica,sans-serif; font-size:48px; text-anchor:middle;\" transform=\"rotate(0, 1601.72, 1557.47)\" x=\"1601.72\" y=\"1557.47\">1</text>\n",
       "</g>\n",
       "<g clip-path=\"url(#clip2301)\">\n",
       "<text style=\"fill:#000000; fill-opacity:1; font-family:Arial,Helvetica Neue,Helvetica,sans-serif; font-size:48px; text-anchor:middle;\" transform=\"rotate(0, 2058.35, 1557.47)\" x=\"2058.35\" y=\"1557.47\">2</text>\n",
       "</g>\n",
       "<g clip-path=\"url(#clip2301)\">\n",
       "<text style=\"fill:#000000; fill-opacity:1; font-family:Arial,Helvetica Neue,Helvetica,sans-serif; font-size:48px; text-anchor:end;\" transform=\"rotate(0, 152.123, 1245.95)\" x=\"152.123\" y=\"1245.95\">-12</text>\n",
       "</g>\n",
       "<g clip-path=\"url(#clip2301)\">\n",
       "<text style=\"fill:#000000; fill-opacity:1; font-family:Arial,Helvetica Neue,Helvetica,sans-serif; font-size:48px; text-anchor:end;\" transform=\"rotate(0, 152.123, 969.403)\" x=\"152.123\" y=\"969.403\">-9</text>\n",
       "</g>\n",
       "<g clip-path=\"url(#clip2301)\">\n",
       "<text style=\"fill:#000000; fill-opacity:1; font-family:Arial,Helvetica Neue,Helvetica,sans-serif; font-size:48px; text-anchor:end;\" transform=\"rotate(0, 152.123, 692.853)\" x=\"152.123\" y=\"692.853\">-6</text>\n",
       "</g>\n",
       "<g clip-path=\"url(#clip2301)\">\n",
       "<text style=\"fill:#000000; fill-opacity:1; font-family:Arial,Helvetica Neue,Helvetica,sans-serif; font-size:48px; text-anchor:end;\" transform=\"rotate(0, 152.123, 416.304)\" x=\"152.123\" y=\"416.304\">-3</text>\n",
       "</g>\n",
       "<g clip-path=\"url(#clip2301)\">\n",
       "<text style=\"fill:#000000; fill-opacity:1; font-family:Arial,Helvetica Neue,Helvetica,sans-serif; font-size:48px; text-anchor:end;\" transform=\"rotate(0, 152.123, 139.754)\" x=\"152.123\" y=\"139.754\">0</text>\n",
       "</g>\n",
       "<polyline clip-path=\"url(#clip2303)\" style=\"stroke:#009af9; stroke-width:4; stroke-opacity:1; fill:none\" points=\"\n",
       "  236.834,1462.26 241.851,1440.3 246.868,1418.66 251.885,1397.33 275.079,1302.71 298.273,1214.34 321.466,1131.82 344.66,1054.8 367.854,982.932 391.048,915.895 \n",
       "  414.242,853.387 437.436,795.124 465.313,730.337 493.19,670.864 521.067,616.303 548.944,566.28 596.083,491.061 643.223,426.326 694.429,366.336 745.636,315.651 \n",
       "  792.844,276.044 840.052,242.352 890.664,211.916 941.276,186.544 999.915,162.528 1058.55,143.367 1162.78,118.818 1254.17,104.912 1353.81,95.576 1454.05,90.5478 \n",
       "  1564.87,88.4582 1670.32,88.6882 1779.96,90.3419 1872.25,92.3917 1984.93,95.3063 2090.85,98.1901 2260.55,102.682 \n",
       "  \"/>\n",
       "<polygon clip-path=\"url(#clip2301)\" points=\"\n",
       "1969.12,251.724 2249.26,251.724 2249.26,130.764 1969.12,130.764 \n",
       "  \" fill=\"#ffffff\" fill-rule=\"evenodd\" fill-opacity=\"1\"/>\n",
       "<polyline clip-path=\"url(#clip2301)\" style=\"stroke:#000000; stroke-width:4; stroke-opacity:1; fill:none\" points=\"\n",
       "  1969.12,251.724 2249.26,251.724 2249.26,130.764 1969.12,130.764 1969.12,251.724 \n",
       "  \"/>\n",
       "<polyline clip-path=\"url(#clip2301)\" style=\"stroke:#009af9; stroke-width:4; stroke-opacity:1; fill:none\" points=\"\n",
       "  1993.12,191.244 2137.12,191.244 \n",
       "  \"/>\n",
       "<g clip-path=\"url(#clip2301)\">\n",
       "<text style=\"fill:#000000; fill-opacity:1; font-family:Arial,Helvetica Neue,Helvetica,sans-serif; font-size:48px; text-anchor:start;\" transform=\"rotate(0, 2161.12, 208.744)\" x=\"2161.12\" y=\"208.744\">f3</text>\n",
       "</g>\n",
       "</svg>\n"
      ]
     },
     "execution_count": 7,
     "metadata": {},
     "output_type": "execute_result"
    }
   ],
   "source": [
    "f3(x) =  x * exp(-x)\n",
    "plot(f3, -2, 2.5, label = \"f3\")"
   ]
  },
  {
   "cell_type": "code",
   "execution_count": 8,
   "metadata": {},
   "outputs": [
    {
     "name": "stdout",
     "output_type": "stream",
     "text": [
      "Results of univariate zero finding:\n",
      "\n",
      "* Converged to: 2.2737367544323206e-12\n",
      "* Algorithm: FalsePosition{:anderson_bjork}()\n",
      "* iterations: 41\n",
      "* function evaluations: 43\n",
      "* Note: Too many steps taken. \n",
      "\tAlgorithm stopped early, but |f(xn)| < ϵ^(1/3), where ϵ depends on xn, rtol, and atol. \n",
      "\n",
      "Trace:\n",
      "(a_0, b_0) = ( 0.0000000000000000,  5.0000000000000000)\n",
      "(a_1, b_1) = ( 0.0000000000000000,  2.5000000000000000)\n",
      "(a_2, b_2) = ( 0.0000000000000000,  1.2500000000000000)\n",
      "(a_3, b_3) = ( 0.0000000000000000,  0.6250000000000000)\n",
      "(a_4, b_4) = ( 0.0000000000000000,  0.3125000000000000)\n",
      "(a_5, b_5) = ( 0.0000000000000000,  0.1562500000000000)\n",
      "(a_6, b_6) = ( 0.0000000000000000,  0.0781250000000000)\n",
      "(a_7, b_7) = ( 0.0000000000000000,  0.0390625000000000)\n",
      "(a_8, b_8) = ( 0.0000000000000000,  0.0195312500000000)\n",
      "(a_9, b_9) = ( 0.0000000000000000,  0.0097656250000000)\n",
      "(a_10, b_10) = ( 0.0000000000000000,  0.0048828125000000)\n",
      "(a_11, b_11) = ( 0.0000000000000000,  0.0024414062500000)\n",
      "(a_12, b_12) = ( 0.0000000000000000,  0.0012207031250000)\n",
      "(a_13, b_13) = ( 0.0000000000000000,  0.0006103515625000)\n",
      "(a_14, b_14) = ( 0.0000000000000000,  0.0003051757812500)\n",
      "(a_15, b_15) = ( 0.0000000000000000,  0.0001525878906250)\n",
      "(a_16, b_16) = ( 0.0000000000000000,  0.0000762939453125)\n",
      "(a_17, b_17) = ( 0.0000000000000000,  0.0000381469726563)\n",
      "(a_18, b_18) = ( 0.0000000000000000,  0.0000190734863281)\n",
      "(a_19, b_19) = ( 0.0000000000000000,  0.0000095367431641)\n",
      "(a_20, b_20) = ( 0.0000000000000000,  0.0000047683715820)\n",
      "(a_21, b_21) = ( 0.0000000000000000,  0.0000023841857910)\n",
      "(a_22, b_22) = ( 0.0000000000000000,  0.0000011920928955)\n",
      "(a_23, b_23) = ( 0.0000000000000000,  0.0000005960464478)\n",
      "(a_24, b_24) = ( 0.0000000000000000,  0.0000002980232239)\n",
      "(a_25, b_25) = ( 0.0000000000000000,  0.0000001490116119)\n",
      "(a_26, b_26) = ( 0.0000000000000000,  0.0000000745058060)\n",
      "(a_27, b_27) = ( 0.0000000000000000,  0.0000000372529030)\n",
      "(a_28, b_28) = ( 0.0000000000000000,  0.0000000186264515)\n",
      "(a_29, b_29) = ( 0.0000000000000000,  0.0000000093132257)\n",
      "(a_30, b_30) = ( 0.0000000000000000,  0.0000000046566129)\n",
      "(a_31, b_31) = ( 0.0000000000000000,  0.0000000023283064)\n",
      "(a_32, b_32) = ( 0.0000000000000000,  0.0000000011641532)\n",
      "(a_33, b_33) = ( 0.0000000000000000,  0.0000000005820766)\n",
      "(a_34, b_34) = ( 0.0000000000000000,  0.0000000002910383)\n",
      "(a_35, b_35) = ( 0.0000000000000000,  0.0000000001455192)\n",
      "(a_36, b_36) = ( 0.0000000000000000,  0.0000000000727596)\n",
      "(a_37, b_37) = ( 0.0000000000000000,  0.0000000000363798)\n",
      "(a_38, b_38) = ( 0.0000000000000000,  0.0000000000181899)\n",
      "(a_39, b_39) = ( 0.0000000000000000,  0.0000000000090949)\n",
      "(a_40, b_40) = ( 0.0000000000000000,  0.0000000000045475)\n",
      "(a_41, b_41) = ( 0.0000000000000000,  0.0000000000022737)\n",
      "\n"
     ]
    },
    {
     "data": {
      "text/plain": [
       "false"
      ]
     },
     "execution_count": 8,
     "metadata": {},
     "output_type": "execute_result"
    }
   ],
   "source": [
    "x3 = find_zero(f3, (-5, 5), FalsePosition(), verbose=true)\n",
    "iszero(f3(x3))"
   ]
  },
  {
   "cell_type": "code",
   "execution_count": 9,
   "metadata": {},
   "outputs": [
    {
     "data": {
      "image/svg+xml": [
       "<?xml version=\"1.0\" encoding=\"utf-8\"?>\n",
       "<svg xmlns=\"http://www.w3.org/2000/svg\" xmlns:xlink=\"http://www.w3.org/1999/xlink\" width=\"600\" height=\"400\" viewBox=\"0 0 2400 1600\">\n",
       "<defs>\n",
       "  <clipPath id=\"clip2500\">\n",
       "    <rect x=\"0\" y=\"0\" width=\"2000\" height=\"2000\"/>\n",
       "  </clipPath>\n",
       "</defs>\n",
       "<defs>\n",
       "  <clipPath id=\"clip2501\">\n",
       "    <rect x=\"0\" y=\"0\" width=\"2400\" height=\"1600\"/>\n",
       "  </clipPath>\n",
       "</defs>\n",
       "<polygon clip-path=\"url(#clip2501)\" points=\"\n",
       "0,1600 2400,1600 2400,0 0,0 \n",
       "  \" fill=\"#ffffff\" fill-rule=\"evenodd\" fill-opacity=\"1\"/>\n",
       "<defs>\n",
       "  <clipPath id=\"clip2502\">\n",
       "    <rect x=\"480\" y=\"0\" width=\"1681\" height=\"1600\"/>\n",
       "  </clipPath>\n",
       "</defs>\n",
       "<polygon clip-path=\"url(#clip2501)\" points=\"\n",
       "202.885,1503.47 2321.26,1503.47 2321.26,47.2441 202.885,47.2441 \n",
       "  \" fill=\"#ffffff\" fill-rule=\"evenodd\" fill-opacity=\"1\"/>\n",
       "<defs>\n",
       "  <clipPath id=\"clip2503\">\n",
       "    <rect x=\"202\" y=\"47\" width=\"2119\" height=\"1457\"/>\n",
       "  </clipPath>\n",
       "</defs>\n",
       "<polyline clip-path=\"url(#clip2503)\" style=\"stroke:#000000; stroke-width:2; stroke-opacity:0.1; fill:none\" points=\"\n",
       "  458.908,1503.47 458.908,47.2441 \n",
       "  \"/>\n",
       "<polyline clip-path=\"url(#clip2503)\" style=\"stroke:#000000; stroke-width:2; stroke-opacity:0.1; fill:none\" points=\"\n",
       "  860.86,1503.47 860.86,47.2441 \n",
       "  \"/>\n",
       "<polyline clip-path=\"url(#clip2503)\" style=\"stroke:#000000; stroke-width:2; stroke-opacity:0.1; fill:none\" points=\"\n",
       "  1262.81,1503.47 1262.81,47.2441 \n",
       "  \"/>\n",
       "<polyline clip-path=\"url(#clip2503)\" style=\"stroke:#000000; stroke-width:2; stroke-opacity:0.1; fill:none\" points=\"\n",
       "  1664.76,1503.47 1664.76,47.2441 \n",
       "  \"/>\n",
       "<polyline clip-path=\"url(#clip2503)\" style=\"stroke:#000000; stroke-width:2; stroke-opacity:0.1; fill:none\" points=\"\n",
       "  2066.72,1503.47 2066.72,47.2441 \n",
       "  \"/>\n",
       "<polyline clip-path=\"url(#clip2503)\" style=\"stroke:#000000; stroke-width:2; stroke-opacity:0.1; fill:none\" points=\"\n",
       "  202.885,1332.72 2321.26,1332.72 \n",
       "  \"/>\n",
       "<polyline clip-path=\"url(#clip2503)\" style=\"stroke:#000000; stroke-width:2; stroke-opacity:0.1; fill:none\" points=\"\n",
       "  202.885,1053.28 2321.26,1053.28 \n",
       "  \"/>\n",
       "<polyline clip-path=\"url(#clip2503)\" style=\"stroke:#000000; stroke-width:2; stroke-opacity:0.1; fill:none\" points=\"\n",
       "  202.885,773.835 2321.26,773.835 \n",
       "  \"/>\n",
       "<polyline clip-path=\"url(#clip2503)\" style=\"stroke:#000000; stroke-width:2; stroke-opacity:0.1; fill:none\" points=\"\n",
       "  202.885,494.391 2321.26,494.391 \n",
       "  \"/>\n",
       "<polyline clip-path=\"url(#clip2503)\" style=\"stroke:#000000; stroke-width:2; stroke-opacity:0.1; fill:none\" points=\"\n",
       "  202.885,214.947 2321.26,214.947 \n",
       "  \"/>\n",
       "<polyline clip-path=\"url(#clip2501)\" style=\"stroke:#000000; stroke-width:4; stroke-opacity:1; fill:none\" points=\"\n",
       "  202.885,1503.47 2321.26,1503.47 \n",
       "  \"/>\n",
       "<polyline clip-path=\"url(#clip2501)\" style=\"stroke:#000000; stroke-width:4; stroke-opacity:1; fill:none\" points=\"\n",
       "  202.885,1503.47 202.885,47.2441 \n",
       "  \"/>\n",
       "<polyline clip-path=\"url(#clip2501)\" style=\"stroke:#000000; stroke-width:4; stroke-opacity:1; fill:none\" points=\"\n",
       "  458.908,1503.47 458.908,1481.63 \n",
       "  \"/>\n",
       "<polyline clip-path=\"url(#clip2501)\" style=\"stroke:#000000; stroke-width:4; stroke-opacity:1; fill:none\" points=\"\n",
       "  860.86,1503.47 860.86,1481.63 \n",
       "  \"/>\n",
       "<polyline clip-path=\"url(#clip2501)\" style=\"stroke:#000000; stroke-width:4; stroke-opacity:1; fill:none\" points=\"\n",
       "  1262.81,1503.47 1262.81,1481.63 \n",
       "  \"/>\n",
       "<polyline clip-path=\"url(#clip2501)\" style=\"stroke:#000000; stroke-width:4; stroke-opacity:1; fill:none\" points=\"\n",
       "  1664.76,1503.47 1664.76,1481.63 \n",
       "  \"/>\n",
       "<polyline clip-path=\"url(#clip2501)\" style=\"stroke:#000000; stroke-width:4; stroke-opacity:1; fill:none\" points=\"\n",
       "  2066.72,1503.47 2066.72,1481.63 \n",
       "  \"/>\n",
       "<polyline clip-path=\"url(#clip2501)\" style=\"stroke:#000000; stroke-width:4; stroke-opacity:1; fill:none\" points=\"\n",
       "  202.885,1332.72 234.661,1332.72 \n",
       "  \"/>\n",
       "<polyline clip-path=\"url(#clip2501)\" style=\"stroke:#000000; stroke-width:4; stroke-opacity:1; fill:none\" points=\"\n",
       "  202.885,1053.28 234.661,1053.28 \n",
       "  \"/>\n",
       "<polyline clip-path=\"url(#clip2501)\" style=\"stroke:#000000; stroke-width:4; stroke-opacity:1; fill:none\" points=\"\n",
       "  202.885,773.835 234.661,773.835 \n",
       "  \"/>\n",
       "<polyline clip-path=\"url(#clip2501)\" style=\"stroke:#000000; stroke-width:4; stroke-opacity:1; fill:none\" points=\"\n",
       "  202.885,494.391 234.661,494.391 \n",
       "  \"/>\n",
       "<polyline clip-path=\"url(#clip2501)\" style=\"stroke:#000000; stroke-width:4; stroke-opacity:1; fill:none\" points=\"\n",
       "  202.885,214.947 234.661,214.947 \n",
       "  \"/>\n",
       "<g clip-path=\"url(#clip2501)\">\n",
       "<text style=\"fill:#000000; fill-opacity:1; font-family:Arial,Helvetica Neue,Helvetica,sans-serif; font-size:48px; text-anchor:middle;\" transform=\"rotate(0, 458.908, 1557.47)\" x=\"458.908\" y=\"1557.47\">-4</text>\n",
       "</g>\n",
       "<g clip-path=\"url(#clip2501)\">\n",
       "<text style=\"fill:#000000; fill-opacity:1; font-family:Arial,Helvetica Neue,Helvetica,sans-serif; font-size:48px; text-anchor:middle;\" transform=\"rotate(0, 860.86, 1557.47)\" x=\"860.86\" y=\"1557.47\">-2</text>\n",
       "</g>\n",
       "<g clip-path=\"url(#clip2501)\">\n",
       "<text style=\"fill:#000000; fill-opacity:1; font-family:Arial,Helvetica Neue,Helvetica,sans-serif; font-size:48px; text-anchor:middle;\" transform=\"rotate(0, 1262.81, 1557.47)\" x=\"1262.81\" y=\"1557.47\">0</text>\n",
       "</g>\n",
       "<g clip-path=\"url(#clip2501)\">\n",
       "<text style=\"fill:#000000; fill-opacity:1; font-family:Arial,Helvetica Neue,Helvetica,sans-serif; font-size:48px; text-anchor:middle;\" transform=\"rotate(0, 1664.76, 1557.47)\" x=\"1664.76\" y=\"1557.47\">2</text>\n",
       "</g>\n",
       "<g clip-path=\"url(#clip2501)\">\n",
       "<text style=\"fill:#000000; fill-opacity:1; font-family:Arial,Helvetica Neue,Helvetica,sans-serif; font-size:48px; text-anchor:middle;\" transform=\"rotate(0, 2066.72, 1557.47)\" x=\"2066.72\" y=\"1557.47\">4</text>\n",
       "</g>\n",
       "<g clip-path=\"url(#clip2501)\">\n",
       "<text style=\"fill:#000000; fill-opacity:1; font-family:Arial,Helvetica Neue,Helvetica,sans-serif; font-size:48px; text-anchor:end;\" transform=\"rotate(0, 178.885, 1350.22)\" x=\"178.885\" y=\"1350.22\">-100</text>\n",
       "</g>\n",
       "<g clip-path=\"url(#clip2501)\">\n",
       "<text style=\"fill:#000000; fill-opacity:1; font-family:Arial,Helvetica Neue,Helvetica,sans-serif; font-size:48px; text-anchor:end;\" transform=\"rotate(0, 178.885, 1070.78)\" x=\"178.885\" y=\"1070.78\">-50</text>\n",
       "</g>\n",
       "<g clip-path=\"url(#clip2501)\">\n",
       "<text style=\"fill:#000000; fill-opacity:1; font-family:Arial,Helvetica Neue,Helvetica,sans-serif; font-size:48px; text-anchor:end;\" transform=\"rotate(0, 178.885, 791.335)\" x=\"178.885\" y=\"791.335\">0</text>\n",
       "</g>\n",
       "<g clip-path=\"url(#clip2501)\">\n",
       "<text style=\"fill:#000000; fill-opacity:1; font-family:Arial,Helvetica Neue,Helvetica,sans-serif; font-size:48px; text-anchor:end;\" transform=\"rotate(0, 178.885, 511.891)\" x=\"178.885\" y=\"511.891\">50</text>\n",
       "</g>\n",
       "<g clip-path=\"url(#clip2501)\">\n",
       "<text style=\"fill:#000000; fill-opacity:1; font-family:Arial,Helvetica Neue,Helvetica,sans-serif; font-size:48px; text-anchor:end;\" transform=\"rotate(0, 178.885, 232.447)\" x=\"178.885\" y=\"232.447\">100</text>\n",
       "</g>\n",
       "<polyline clip-path=\"url(#clip2503)\" style=\"stroke:#009af9; stroke-width:4; stroke-opacity:1; fill:none\" points=\"\n",
       "  262.839,1462.26 267.746,1452.18 272.653,1442.19 277.559,1432.3 322.929,1345.46 368.299,1266.61 413.669,1195.37 459.039,1131.35 513.57,1063.41 568.1,1004.67 \n",
       "  614.206,961.696 660.311,924.414 710.394,889.898 760.477,861.106 806.649,839.186 852.821,821.282 902.322,806.088 951.824,794.542 1009.18,785.068 1066.53,779.041 \n",
       "  1168.46,774.413 1257.85,773.835 1355.31,773.29 1453.35,769.072 1507.54,763.743 1561.74,755.444 1613.3,744.191 1664.87,729.088 1718.49,708.692 1772.1,682.886 \n",
       "  1817.24,656.5 1862.37,625.449 1917.48,580.66 1972.58,527.661 2024.38,469.734 2076.18,403.367 2117.67,343.729 2159.16,278.01 2200.66,205.917 2242.15,127.154 \n",
       "  2248.53,114.422 2254.92,101.524 2261.31,88.4582 \n",
       "  \"/>\n",
       "<polygon clip-path=\"url(#clip2501)\" points=\"\n",
       "1969.12,251.724 2249.26,251.724 2249.26,130.764 1969.12,130.764 \n",
       "  \" fill=\"#ffffff\" fill-rule=\"evenodd\" fill-opacity=\"1\"/>\n",
       "<polyline clip-path=\"url(#clip2501)\" style=\"stroke:#000000; stroke-width:4; stroke-opacity:1; fill:none\" points=\"\n",
       "  1969.12,251.724 2249.26,251.724 2249.26,130.764 1969.12,130.764 1969.12,251.724 \n",
       "  \"/>\n",
       "<polyline clip-path=\"url(#clip2501)\" style=\"stroke:#009af9; stroke-width:4; stroke-opacity:1; fill:none\" points=\"\n",
       "  1993.12,191.244 2137.12,191.244 \n",
       "  \"/>\n",
       "<g clip-path=\"url(#clip2501)\">\n",
       "<text style=\"fill:#000000; fill-opacity:1; font-family:Arial,Helvetica Neue,Helvetica,sans-serif; font-size:48px; text-anchor:start;\" transform=\"rotate(0, 2161.12, 208.744)\" x=\"2161.12\" y=\"208.744\">f4</text>\n",
       "</g>\n",
       "</svg>\n"
      ]
     },
     "execution_count": 9,
     "metadata": {},
     "output_type": "execute_result"
    }
   ],
   "source": [
    "f4(x) = x^3\n",
    "plot(f4, -5, 5, label = \"f4\")"
   ]
  },
  {
   "cell_type": "code",
   "execution_count": 19,
   "metadata": {},
   "outputs": [
    {
     "name": "stdout",
     "output_type": "stream",
     "text": [
      "Results of univariate zero finding:\n",
      "\n",
      "* Converged to: 9.5367431640625e-6\n",
      "* Algorithm: FalsePosition{:anderson_bjork}()\n",
      "* iterations: 19\n",
      "* function evaluations: 21\n",
      "* stopped as |f(x_n)| ≤ max(δ, max(1,|x|)⋅ϵ) using δ = atol, ϵ = rtol\n",
      "\n",
      "Trace:\n",
      "(a_0, b_0) = ( 0.0000000000000000,  5.0000000000000000)\n",
      "(a_1, b_1) = ( 0.0000000000000000,  2.5000000000000000)\n",
      "(a_2, b_2) = ( 0.0000000000000000,  1.2500000000000000)\n",
      "(a_3, b_3) = ( 0.0000000000000000,  0.6250000000000000)\n",
      "(a_4, b_4) = ( 0.0000000000000000,  0.3125000000000000)\n",
      "(a_5, b_5) = ( 0.0000000000000000,  0.1562500000000000)\n",
      "(a_6, b_6) = ( 0.0000000000000000,  0.0781250000000000)\n",
      "(a_7, b_7) = ( 0.0000000000000000,  0.0390625000000000)\n",
      "(a_8, b_8) = ( 0.0000000000000000,  0.0195312500000000)\n",
      "(a_9, b_9) = ( 0.0000000000000000,  0.0097656250000000)\n",
      "(a_10, b_10) = ( 0.0000000000000000,  0.0048828125000000)\n",
      "(a_11, b_11) = ( 0.0000000000000000,  0.0024414062500000)\n",
      "(a_12, b_12) = ( 0.0000000000000000,  0.0012207031250000)\n",
      "(a_13, b_13) = ( 0.0000000000000000,  0.0006103515625000)\n",
      "(a_14, b_14) = ( 0.0000000000000000,  0.0003051757812500)\n",
      "(a_15, b_15) = ( 0.0000000000000000,  0.0001525878906250)\n",
      "(a_16, b_16) = ( 0.0000000000000000,  0.0000762939453125)\n",
      "(a_17, b_17) = ( 0.0000000000000000,  0.0000381469726563)\n",
      "(a_18, b_18) = ( 0.0000000000000000,  0.0000190734863281)\n",
      "(a_19, b_19) = ( 0.0000000000000000,  0.0000095367431641)\n",
      "\n"
     ]
    },
    {
     "data": {
      "text/plain": [
       "false"
      ]
     },
     "execution_count": 19,
     "metadata": {},
     "output_type": "execute_result"
    }
   ],
   "source": [
    "x4 = find_zero(f4, (-5, 5), FalsePosition(), verbose=true)\n",
    "iszero(f4(x4))"
   ]
  },
  {
   "cell_type": "code",
   "execution_count": 10,
   "metadata": {},
   "outputs": [
    {
     "data": {
      "image/svg+xml": [
       "<?xml version=\"1.0\" encoding=\"utf-8\"?>\n",
       "<svg xmlns=\"http://www.w3.org/2000/svg\" xmlns:xlink=\"http://www.w3.org/1999/xlink\" width=\"600\" height=\"400\" viewBox=\"0 0 2400 1600\">\n",
       "<defs>\n",
       "  <clipPath id=\"clip2700\">\n",
       "    <rect x=\"0\" y=\"0\" width=\"2000\" height=\"2000\"/>\n",
       "  </clipPath>\n",
       "</defs>\n",
       "<defs>\n",
       "  <clipPath id=\"clip2701\">\n",
       "    <rect x=\"0\" y=\"0\" width=\"2400\" height=\"1600\"/>\n",
       "  </clipPath>\n",
       "</defs>\n",
       "<polygon clip-path=\"url(#clip2701)\" points=\"\n",
       "0,1600 2400,1600 2400,0 0,0 \n",
       "  \" fill=\"#ffffff\" fill-rule=\"evenodd\" fill-opacity=\"1\"/>\n",
       "<defs>\n",
       "  <clipPath id=\"clip2702\">\n",
       "    <rect x=\"480\" y=\"0\" width=\"1681\" height=\"1600\"/>\n",
       "  </clipPath>\n",
       "</defs>\n",
       "<polygon clip-path=\"url(#clip2701)\" points=\"\n",
       "149.361,1503.47 2321.26,1503.47 2321.26,47.2441 149.361,47.2441 \n",
       "  \" fill=\"#ffffff\" fill-rule=\"evenodd\" fill-opacity=\"1\"/>\n",
       "<defs>\n",
       "  <clipPath id=\"clip2703\">\n",
       "    <rect x=\"149\" y=\"47\" width=\"2173\" height=\"1457\"/>\n",
       "  </clipPath>\n",
       "</defs>\n",
       "<polyline clip-path=\"url(#clip2703)\" style=\"stroke:#000000; stroke-width:2; stroke-opacity:0.1; fill:none\" points=\"\n",
       "  407.936,1503.47 407.936,47.2441 \n",
       "  \"/>\n",
       "<polyline clip-path=\"url(#clip2703)\" style=\"stroke:#000000; stroke-width:2; stroke-opacity:0.1; fill:none\" points=\"\n",
       "  822.385,1503.47 822.385,47.2441 \n",
       "  \"/>\n",
       "<polyline clip-path=\"url(#clip2703)\" style=\"stroke:#000000; stroke-width:2; stroke-opacity:0.1; fill:none\" points=\"\n",
       "  1236.84,1503.47 1236.84,47.2441 \n",
       "  \"/>\n",
       "<polyline clip-path=\"url(#clip2703)\" style=\"stroke:#000000; stroke-width:2; stroke-opacity:0.1; fill:none\" points=\"\n",
       "  1651.28,1503.47 1651.28,47.2441 \n",
       "  \"/>\n",
       "<polyline clip-path=\"url(#clip2703)\" style=\"stroke:#000000; stroke-width:2; stroke-opacity:0.1; fill:none\" points=\"\n",
       "  2065.73,1503.47 2065.73,47.2441 \n",
       "  \"/>\n",
       "<polyline clip-path=\"url(#clip2703)\" style=\"stroke:#000000; stroke-width:2; stroke-opacity:0.1; fill:none\" points=\"\n",
       "  149.361,1363.16 2321.26,1363.16 \n",
       "  \"/>\n",
       "<polyline clip-path=\"url(#clip2703)\" style=\"stroke:#000000; stroke-width:2; stroke-opacity:0.1; fill:none\" points=\"\n",
       "  149.361,1085.68 2321.26,1085.68 \n",
       "  \"/>\n",
       "<polyline clip-path=\"url(#clip2703)\" style=\"stroke:#000000; stroke-width:2; stroke-opacity:0.1; fill:none\" points=\"\n",
       "  149.361,808.201 2321.26,808.201 \n",
       "  \"/>\n",
       "<polyline clip-path=\"url(#clip2703)\" style=\"stroke:#000000; stroke-width:2; stroke-opacity:0.1; fill:none\" points=\"\n",
       "  149.361,530.72 2321.26,530.72 \n",
       "  \"/>\n",
       "<polyline clip-path=\"url(#clip2703)\" style=\"stroke:#000000; stroke-width:2; stroke-opacity:0.1; fill:none\" points=\"\n",
       "  149.361,253.239 2321.26,253.239 \n",
       "  \"/>\n",
       "<polyline clip-path=\"url(#clip2701)\" style=\"stroke:#000000; stroke-width:4; stroke-opacity:1; fill:none\" points=\"\n",
       "  149.361,1503.47 2321.26,1503.47 \n",
       "  \"/>\n",
       "<polyline clip-path=\"url(#clip2701)\" style=\"stroke:#000000; stroke-width:4; stroke-opacity:1; fill:none\" points=\"\n",
       "  149.361,1503.47 149.361,47.2441 \n",
       "  \"/>\n",
       "<polyline clip-path=\"url(#clip2701)\" style=\"stroke:#000000; stroke-width:4; stroke-opacity:1; fill:none\" points=\"\n",
       "  407.936,1503.47 407.936,1481.63 \n",
       "  \"/>\n",
       "<polyline clip-path=\"url(#clip2701)\" style=\"stroke:#000000; stroke-width:4; stroke-opacity:1; fill:none\" points=\"\n",
       "  822.385,1503.47 822.385,1481.63 \n",
       "  \"/>\n",
       "<polyline clip-path=\"url(#clip2701)\" style=\"stroke:#000000; stroke-width:4; stroke-opacity:1; fill:none\" points=\"\n",
       "  1236.84,1503.47 1236.84,1481.63 \n",
       "  \"/>\n",
       "<polyline clip-path=\"url(#clip2701)\" style=\"stroke:#000000; stroke-width:4; stroke-opacity:1; fill:none\" points=\"\n",
       "  1651.28,1503.47 1651.28,1481.63 \n",
       "  \"/>\n",
       "<polyline clip-path=\"url(#clip2701)\" style=\"stroke:#000000; stroke-width:4; stroke-opacity:1; fill:none\" points=\"\n",
       "  2065.73,1503.47 2065.73,1481.63 \n",
       "  \"/>\n",
       "<polyline clip-path=\"url(#clip2701)\" style=\"stroke:#000000; stroke-width:4; stroke-opacity:1; fill:none\" points=\"\n",
       "  149.361,1363.16 181.939,1363.16 \n",
       "  \"/>\n",
       "<polyline clip-path=\"url(#clip2701)\" style=\"stroke:#000000; stroke-width:4; stroke-opacity:1; fill:none\" points=\"\n",
       "  149.361,1085.68 181.939,1085.68 \n",
       "  \"/>\n",
       "<polyline clip-path=\"url(#clip2701)\" style=\"stroke:#000000; stroke-width:4; stroke-opacity:1; fill:none\" points=\"\n",
       "  149.361,808.201 181.939,808.201 \n",
       "  \"/>\n",
       "<polyline clip-path=\"url(#clip2701)\" style=\"stroke:#000000; stroke-width:4; stroke-opacity:1; fill:none\" points=\"\n",
       "  149.361,530.72 181.939,530.72 \n",
       "  \"/>\n",
       "<polyline clip-path=\"url(#clip2701)\" style=\"stroke:#000000; stroke-width:4; stroke-opacity:1; fill:none\" points=\"\n",
       "  149.361,253.239 181.939,253.239 \n",
       "  \"/>\n",
       "<g clip-path=\"url(#clip2701)\">\n",
       "<text style=\"fill:#000000; fill-opacity:1; font-family:Arial,Helvetica Neue,Helvetica,sans-serif; font-size:48px; text-anchor:middle;\" transform=\"rotate(0, 407.936, 1557.47)\" x=\"407.936\" y=\"1557.47\">-4</text>\n",
       "</g>\n",
       "<g clip-path=\"url(#clip2701)\">\n",
       "<text style=\"fill:#000000; fill-opacity:1; font-family:Arial,Helvetica Neue,Helvetica,sans-serif; font-size:48px; text-anchor:middle;\" transform=\"rotate(0, 822.385, 1557.47)\" x=\"822.385\" y=\"1557.47\">-2</text>\n",
       "</g>\n",
       "<g clip-path=\"url(#clip2701)\">\n",
       "<text style=\"fill:#000000; fill-opacity:1; font-family:Arial,Helvetica Neue,Helvetica,sans-serif; font-size:48px; text-anchor:middle;\" transform=\"rotate(0, 1236.84, 1557.47)\" x=\"1236.84\" y=\"1557.47\">0</text>\n",
       "</g>\n",
       "<g clip-path=\"url(#clip2701)\">\n",
       "<text style=\"fill:#000000; fill-opacity:1; font-family:Arial,Helvetica Neue,Helvetica,sans-serif; font-size:48px; text-anchor:middle;\" transform=\"rotate(0, 1651.28, 1557.47)\" x=\"1651.28\" y=\"1557.47\">2</text>\n",
       "</g>\n",
       "<g clip-path=\"url(#clip2701)\">\n",
       "<text style=\"fill:#000000; fill-opacity:1; font-family:Arial,Helvetica Neue,Helvetica,sans-serif; font-size:48px; text-anchor:middle;\" transform=\"rotate(0, 2065.73, 1557.47)\" x=\"2065.73\" y=\"1557.47\">4</text>\n",
       "</g>\n",
       "<g clip-path=\"url(#clip2701)\">\n",
       "<text style=\"fill:#000000; fill-opacity:1; font-family:Arial,Helvetica Neue,Helvetica,sans-serif; font-size:48px; text-anchor:end;\" transform=\"rotate(0, 125.361, 1380.66)\" x=\"125.361\" y=\"1380.66\">-4</text>\n",
       "</g>\n",
       "<g clip-path=\"url(#clip2701)\">\n",
       "<text style=\"fill:#000000; fill-opacity:1; font-family:Arial,Helvetica Neue,Helvetica,sans-serif; font-size:48px; text-anchor:end;\" transform=\"rotate(0, 125.361, 1103.18)\" x=\"125.361\" y=\"1103.18\">-2</text>\n",
       "</g>\n",
       "<g clip-path=\"url(#clip2701)\">\n",
       "<text style=\"fill:#000000; fill-opacity:1; font-family:Arial,Helvetica Neue,Helvetica,sans-serif; font-size:48px; text-anchor:end;\" transform=\"rotate(0, 125.361, 825.701)\" x=\"125.361\" y=\"825.701\">0</text>\n",
       "</g>\n",
       "<g clip-path=\"url(#clip2701)\">\n",
       "<text style=\"fill:#000000; fill-opacity:1; font-family:Arial,Helvetica Neue,Helvetica,sans-serif; font-size:48px; text-anchor:end;\" transform=\"rotate(0, 125.361, 548.22)\" x=\"125.361\" y=\"548.22\">2</text>\n",
       "</g>\n",
       "<g clip-path=\"url(#clip2701)\">\n",
       "<text style=\"fill:#000000; fill-opacity:1; font-family:Arial,Helvetica Neue,Helvetica,sans-serif; font-size:48px; text-anchor:end;\" transform=\"rotate(0, 125.361, 270.739)\" x=\"125.361\" y=\"270.739\">4</text>\n",
       "</g>\n",
       "<polyline clip-path=\"url(#clip2703)\" style=\"stroke:#009af9; stroke-width:4; stroke-opacity:1; fill:none\" points=\"\n",
       "  210.829,88.4582 220.948,101.852 314.509,226.563 408.07,344.084 464.297,406.534 520.523,460.528 544.292,480.496 568.061,498.678 591.831,515.042 615.6,529.584 \n",
       "  667.24,555.016 718.881,572.53 766.488,582.563 814.096,587.906 865.137,590.013 916.177,590.269 975.313,590.946 1034.45,595.033 1087,603.859 1139.55,619.339 \n",
       "  1185.64,639.396 1231.72,666.079 1256.84,683.503 1281.97,702.954 1307.09,724.393 1332.21,747.752 1382.75,800.152 1433.29,858.811 1545.06,1003 1651.4,1143.56 \n",
       "  1706.68,1211.78 1761.96,1273.7 1808.5,1319.63 1855.04,1359.1 1883.45,1379.83 1911.85,1397.95 1940.26,1413.49 1968.67,1426.5 2022.08,1444.57 2075.49,1455.34 \n",
       "  2161.06,1461.63 2246.62,1462.1 2259.79,1462.26 \n",
       "  \"/>\n",
       "<polygon clip-path=\"url(#clip2701)\" points=\"\n",
       "1969.12,251.724 2249.26,251.724 2249.26,130.764 1969.12,130.764 \n",
       "  \" fill=\"#ffffff\" fill-rule=\"evenodd\" fill-opacity=\"1\"/>\n",
       "<polyline clip-path=\"url(#clip2701)\" style=\"stroke:#000000; stroke-width:4; stroke-opacity:1; fill:none\" points=\"\n",
       "  1969.12,251.724 2249.26,251.724 2249.26,130.764 1969.12,130.764 1969.12,251.724 \n",
       "  \"/>\n",
       "<polyline clip-path=\"url(#clip2701)\" style=\"stroke:#009af9; stroke-width:4; stroke-opacity:1; fill:none\" points=\"\n",
       "  1993.12,191.244 2137.12,191.244 \n",
       "  \"/>\n",
       "<g clip-path=\"url(#clip2701)\">\n",
       "<text style=\"fill:#000000; fill-opacity:1; font-family:Arial,Helvetica Neue,Helvetica,sans-serif; font-size:48px; text-anchor:start;\" transform=\"rotate(0, 2161.12, 208.744)\" x=\"2161.12\" y=\"208.744\">f5</text>\n",
       "</g>\n",
       "</svg>\n"
      ]
     },
     "execution_count": 10,
     "metadata": {},
     "output_type": "execute_result"
    }
   ],
   "source": [
    "f5(x) = cos(x) - x\n",
    "plot(f5, -5, 5, label = \"f5\")"
   ]
  },
  {
   "cell_type": "code",
   "execution_count": 11,
   "metadata": {},
   "outputs": [
    {
     "name": "stdout",
     "output_type": "stream",
     "text": [
      "Results of univariate zero finding:\n",
      "\n",
      "* Converged to: 0.7390851332151607\n",
      "* Algorithm: FalsePosition{:anderson_bjork}()\n",
      "* iterations: 8\n",
      "* function evaluations: 10\n",
      "* stopped as |f(x_n)| ≤ max(δ, max(1,|x|)⋅ϵ) using δ = atol, ϵ = rtol\n",
      "\n",
      "Trace:\n",
      "(a_0, b_0) = ( 0.0000000000000000,  5.0000000000000000)\n",
      "(a_1, b_1) = ( 0.0000000000000000,  2.5000000000000000)\n",
      "(a_2, b_2) = ( 2.5000000000000000,  0.3288484010147408)\n",
      "(a_3, b_3) = ( 2.5000000000000000,  0.6710095772322766)\n",
      "(a_4, b_4) = ( 0.6710095772322766,  0.7439342330874568)\n",
      "(a_5, b_5) = ( 0.7439342330874568,  0.7390097975349801)\n",
      "(a_6, b_6) = ( 0.7439342330874568,  0.7390850527545149)\n",
      "(a_7, b_7) = ( 0.7390850527545149,  0.7390851332151640)\n",
      "(a_8, b_8) = ( 0.7390850527545149,  0.7390851332151607)\n",
      "\n"
     ]
    },
    {
     "data": {
      "text/plain": [
       "true"
      ]
     },
     "execution_count": 11,
     "metadata": {},
     "output_type": "execute_result"
    }
   ],
   "source": [
    "x5 = find_zero(f5, (-5, 5), FalsePosition(), verbose=true)\n",
    "iszero(f5(x5))"
   ]
  },
  {
   "cell_type": "code",
   "execution_count": 12,
   "metadata": {},
   "outputs": [
    {
     "data": {
      "image/svg+xml": [
       "<?xml version=\"1.0\" encoding=\"utf-8\"?>\n",
       "<svg xmlns=\"http://www.w3.org/2000/svg\" xmlns:xlink=\"http://www.w3.org/1999/xlink\" width=\"600\" height=\"400\" viewBox=\"0 0 2400 1600\">\n",
       "<defs>\n",
       "  <clipPath id=\"clip2900\">\n",
       "    <rect x=\"0\" y=\"0\" width=\"2000\" height=\"2000\"/>\n",
       "  </clipPath>\n",
       "</defs>\n",
       "<defs>\n",
       "  <clipPath id=\"clip2901\">\n",
       "    <rect x=\"0\" y=\"0\" width=\"2400\" height=\"1600\"/>\n",
       "  </clipPath>\n",
       "</defs>\n",
       "<polygon clip-path=\"url(#clip2901)\" points=\"\n",
       "0,1600 2400,1600 2400,0 0,0 \n",
       "  \" fill=\"#ffffff\" fill-rule=\"evenodd\" fill-opacity=\"1\"/>\n",
       "<defs>\n",
       "  <clipPath id=\"clip2902\">\n",
       "    <rect x=\"480\" y=\"0\" width=\"1681\" height=\"1600\"/>\n",
       "  </clipPath>\n",
       "</defs>\n",
       "<polygon clip-path=\"url(#clip2901)\" points=\"\n",
       "323.556,1503.47 2321.26,1503.47 2321.26,47.2441 323.556,47.2441 \n",
       "  \" fill=\"#ffffff\" fill-rule=\"evenodd\" fill-opacity=\"1\"/>\n",
       "<defs>\n",
       "  <clipPath id=\"clip2903\">\n",
       "    <rect x=\"323\" y=\"47\" width=\"1999\" height=\"1457\"/>\n",
       "  </clipPath>\n",
       "</defs>\n",
       "<polyline clip-path=\"url(#clip2903)\" style=\"stroke:#000000; stroke-width:2; stroke-opacity:0.1; fill:none\" points=\"\n",
       "  361.267,1503.47 361.267,47.2441 \n",
       "  \"/>\n",
       "<polyline clip-path=\"url(#clip2903)\" style=\"stroke:#000000; stroke-width:2; stroke-opacity:0.1; fill:none\" points=\"\n",
       "  843.256,1503.47 843.256,47.2441 \n",
       "  \"/>\n",
       "<polyline clip-path=\"url(#clip2903)\" style=\"stroke:#000000; stroke-width:2; stroke-opacity:0.1; fill:none\" points=\"\n",
       "  1325.25,1503.47 1325.25,47.2441 \n",
       "  \"/>\n",
       "<polyline clip-path=\"url(#clip2903)\" style=\"stroke:#000000; stroke-width:2; stroke-opacity:0.1; fill:none\" points=\"\n",
       "  1807.23,1503.47 1807.23,47.2441 \n",
       "  \"/>\n",
       "<polyline clip-path=\"url(#clip2903)\" style=\"stroke:#000000; stroke-width:2; stroke-opacity:0.1; fill:none\" points=\"\n",
       "  2289.22,1503.47 2289.22,47.2441 \n",
       "  \"/>\n",
       "<polyline clip-path=\"url(#clip2903)\" style=\"stroke:#000000; stroke-width:2; stroke-opacity:0.1; fill:none\" points=\"\n",
       "  323.556,1412.82 2321.26,1412.82 \n",
       "  \"/>\n",
       "<polyline clip-path=\"url(#clip2903)\" style=\"stroke:#000000; stroke-width:2; stroke-opacity:0.1; fill:none\" points=\"\n",
       "  323.556,1081.81 2321.26,1081.81 \n",
       "  \"/>\n",
       "<polyline clip-path=\"url(#clip2903)\" style=\"stroke:#000000; stroke-width:2; stroke-opacity:0.1; fill:none\" points=\"\n",
       "  323.556,750.805 2321.26,750.805 \n",
       "  \"/>\n",
       "<polyline clip-path=\"url(#clip2903)\" style=\"stroke:#000000; stroke-width:2; stroke-opacity:0.1; fill:none\" points=\"\n",
       "  323.556,419.798 2321.26,419.798 \n",
       "  \"/>\n",
       "<polyline clip-path=\"url(#clip2903)\" style=\"stroke:#000000; stroke-width:2; stroke-opacity:0.1; fill:none\" points=\"\n",
       "  323.556,88.7905 2321.26,88.7905 \n",
       "  \"/>\n",
       "<polyline clip-path=\"url(#clip2901)\" style=\"stroke:#000000; stroke-width:4; stroke-opacity:1; fill:none\" points=\"\n",
       "  323.556,1503.47 2321.26,1503.47 \n",
       "  \"/>\n",
       "<polyline clip-path=\"url(#clip2901)\" style=\"stroke:#000000; stroke-width:4; stroke-opacity:1; fill:none\" points=\"\n",
       "  323.556,1503.47 323.556,47.2441 \n",
       "  \"/>\n",
       "<polyline clip-path=\"url(#clip2901)\" style=\"stroke:#000000; stroke-width:4; stroke-opacity:1; fill:none\" points=\"\n",
       "  361.267,1503.47 361.267,1481.63 \n",
       "  \"/>\n",
       "<polyline clip-path=\"url(#clip2901)\" style=\"stroke:#000000; stroke-width:4; stroke-opacity:1; fill:none\" points=\"\n",
       "  843.256,1503.47 843.256,1481.63 \n",
       "  \"/>\n",
       "<polyline clip-path=\"url(#clip2901)\" style=\"stroke:#000000; stroke-width:4; stroke-opacity:1; fill:none\" points=\"\n",
       "  1325.25,1503.47 1325.25,1481.63 \n",
       "  \"/>\n",
       "<polyline clip-path=\"url(#clip2901)\" style=\"stroke:#000000; stroke-width:4; stroke-opacity:1; fill:none\" points=\"\n",
       "  1807.23,1503.47 1807.23,1481.63 \n",
       "  \"/>\n",
       "<polyline clip-path=\"url(#clip2901)\" style=\"stroke:#000000; stroke-width:4; stroke-opacity:1; fill:none\" points=\"\n",
       "  2289.22,1503.47 2289.22,1481.63 \n",
       "  \"/>\n",
       "<polyline clip-path=\"url(#clip2901)\" style=\"stroke:#000000; stroke-width:4; stroke-opacity:1; fill:none\" points=\"\n",
       "  323.556,1412.82 353.522,1412.82 \n",
       "  \"/>\n",
       "<polyline clip-path=\"url(#clip2901)\" style=\"stroke:#000000; stroke-width:4; stroke-opacity:1; fill:none\" points=\"\n",
       "  323.556,1081.81 353.522,1081.81 \n",
       "  \"/>\n",
       "<polyline clip-path=\"url(#clip2901)\" style=\"stroke:#000000; stroke-width:4; stroke-opacity:1; fill:none\" points=\"\n",
       "  323.556,750.805 353.522,750.805 \n",
       "  \"/>\n",
       "<polyline clip-path=\"url(#clip2901)\" style=\"stroke:#000000; stroke-width:4; stroke-opacity:1; fill:none\" points=\"\n",
       "  323.556,419.798 353.522,419.798 \n",
       "  \"/>\n",
       "<polyline clip-path=\"url(#clip2901)\" style=\"stroke:#000000; stroke-width:4; stroke-opacity:1; fill:none\" points=\"\n",
       "  323.556,88.7905 353.522,88.7905 \n",
       "  \"/>\n",
       "<g clip-path=\"url(#clip2901)\">\n",
       "<text style=\"fill:#000000; fill-opacity:1; font-family:Arial,Helvetica Neue,Helvetica,sans-serif; font-size:48px; text-anchor:middle;\" transform=\"rotate(0, 361.267, 1557.47)\" x=\"361.267\" y=\"1557.47\">-2</text>\n",
       "</g>\n",
       "<g clip-path=\"url(#clip2901)\">\n",
       "<text style=\"fill:#000000; fill-opacity:1; font-family:Arial,Helvetica Neue,Helvetica,sans-serif; font-size:48px; text-anchor:middle;\" transform=\"rotate(0, 843.256, 1557.47)\" x=\"843.256\" y=\"1557.47\">-1</text>\n",
       "</g>\n",
       "<g clip-path=\"url(#clip2901)\">\n",
       "<text style=\"fill:#000000; fill-opacity:1; font-family:Arial,Helvetica Neue,Helvetica,sans-serif; font-size:48px; text-anchor:middle;\" transform=\"rotate(0, 1325.25, 1557.47)\" x=\"1325.25\" y=\"1557.47\">0</text>\n",
       "</g>\n",
       "<g clip-path=\"url(#clip2901)\">\n",
       "<text style=\"fill:#000000; fill-opacity:1; font-family:Arial,Helvetica Neue,Helvetica,sans-serif; font-size:48px; text-anchor:middle;\" transform=\"rotate(0, 1807.23, 1557.47)\" x=\"1807.23\" y=\"1557.47\">1</text>\n",
       "</g>\n",
       "<g clip-path=\"url(#clip2901)\">\n",
       "<text style=\"fill:#000000; fill-opacity:1; font-family:Arial,Helvetica Neue,Helvetica,sans-serif; font-size:48px; text-anchor:middle;\" transform=\"rotate(0, 2289.22, 1557.47)\" x=\"2289.22\" y=\"1557.47\">2</text>\n",
       "</g>\n",
       "<g clip-path=\"url(#clip2901)\">\n",
       "<text style=\"fill:#000000; fill-opacity:1; font-family:Arial,Helvetica Neue,Helvetica,sans-serif; font-size:48px; text-anchor:start;\" transform=\"rotate(0, 101.161, 1436.55)\" x=\"101.161\" y=\"1436.55\">-</text>\n",
       "</g>\n",
       "<g clip-path=\"url(#clip2901)\">\n",
       "<text style=\"fill:#000000; fill-opacity:1; font-family:Arial,Helvetica Neue,Helvetica,sans-serif; font-size:48px; text-anchor:start;\" transform=\"rotate(0, 129.271, 1436.55)\" x=\"129.271\" y=\"1436.55\">2.0×10</text>\n",
       "</g>\n",
       "<g clip-path=\"url(#clip2901)\">\n",
       "<text style=\"fill:#000000; fill-opacity:1; font-family:Arial,Helvetica Neue,Helvetica,sans-serif; font-size:38px; text-anchor:start;\" transform=\"rotate(0, 277.812, 1409.14)\" x=\"277.812\" y=\"1409.14\">4</text>\n",
       "</g>\n",
       "<g clip-path=\"url(#clip2901)\">\n",
       "<text style=\"fill:#000000; fill-opacity:1; font-family:Arial,Helvetica Neue,Helvetica,sans-serif; font-size:48px; text-anchor:start;\" transform=\"rotate(0, 101.161, 1105.54)\" x=\"101.161\" y=\"1105.54\">-</text>\n",
       "</g>\n",
       "<g clip-path=\"url(#clip2901)\">\n",
       "<text style=\"fill:#000000; fill-opacity:1; font-family:Arial,Helvetica Neue,Helvetica,sans-serif; font-size:48px; text-anchor:start;\" transform=\"rotate(0, 129.271, 1105.54)\" x=\"129.271\" y=\"1105.54\">1.5×10</text>\n",
       "</g>\n",
       "<g clip-path=\"url(#clip2901)\">\n",
       "<text style=\"fill:#000000; fill-opacity:1; font-family:Arial,Helvetica Neue,Helvetica,sans-serif; font-size:38px; text-anchor:start;\" transform=\"rotate(0, 277.812, 1078.13)\" x=\"277.812\" y=\"1078.13\">4</text>\n",
       "</g>\n",
       "<g clip-path=\"url(#clip2901)\">\n",
       "<text style=\"fill:#000000; fill-opacity:1; font-family:Arial,Helvetica Neue,Helvetica,sans-serif; font-size:48px; text-anchor:start;\" transform=\"rotate(0, 101.161, 774.532)\" x=\"101.161\" y=\"774.532\">-</text>\n",
       "</g>\n",
       "<g clip-path=\"url(#clip2901)\">\n",
       "<text style=\"fill:#000000; fill-opacity:1; font-family:Arial,Helvetica Neue,Helvetica,sans-serif; font-size:48px; text-anchor:start;\" transform=\"rotate(0, 129.271, 774.532)\" x=\"129.271\" y=\"774.532\">1.0×10</text>\n",
       "</g>\n",
       "<g clip-path=\"url(#clip2901)\">\n",
       "<text style=\"fill:#000000; fill-opacity:1; font-family:Arial,Helvetica Neue,Helvetica,sans-serif; font-size:38px; text-anchor:start;\" transform=\"rotate(0, 277.812, 747.122)\" x=\"277.812\" y=\"747.122\">4</text>\n",
       "</g>\n",
       "<g clip-path=\"url(#clip2901)\">\n",
       "<text style=\"fill:#000000; fill-opacity:1; font-family:Arial,Helvetica Neue,Helvetica,sans-serif; font-size:48px; text-anchor:start;\" transform=\"rotate(0, 101.161, 443.525)\" x=\"101.161\" y=\"443.525\">-</text>\n",
       "</g>\n",
       "<g clip-path=\"url(#clip2901)\">\n",
       "<text style=\"fill:#000000; fill-opacity:1; font-family:Arial,Helvetica Neue,Helvetica,sans-serif; font-size:48px; text-anchor:start;\" transform=\"rotate(0, 129.271, 443.525)\" x=\"129.271\" y=\"443.525\">5.0×10</text>\n",
       "</g>\n",
       "<g clip-path=\"url(#clip2901)\">\n",
       "<text style=\"fill:#000000; fill-opacity:1; font-family:Arial,Helvetica Neue,Helvetica,sans-serif; font-size:38px; text-anchor:start;\" transform=\"rotate(0, 277.812, 416.115)\" x=\"277.812\" y=\"416.115\">3</text>\n",
       "</g>\n",
       "<g clip-path=\"url(#clip2901)\">\n",
       "<text style=\"fill:#000000; fill-opacity:1; font-family:Arial,Helvetica Neue,Helvetica,sans-serif; font-size:48px; text-anchor:end;\" transform=\"rotate(0, 299.556, 106.291)\" x=\"299.556\" y=\"106.291\">0</text>\n",
       "</g>\n",
       "<polyline clip-path=\"url(#clip2903)\" style=\"stroke:#009af9; stroke-width:4; stroke-opacity:1; fill:none\" points=\"\n",
       "  380.095,88.9138 554.188,88.9098 658.81,88.9067 747.267,88.9034 843.357,88.8992 931.942,88.8946 1026.92,88.889 1136.95,88.8825 1185.84,88.8813 1234.74,88.8868 \n",
       "  1256.18,88.8978 1277.61,88.9309 1282.97,88.9485 1288.33,88.9748 1293.69,89.0158 1299.05,89.0852 1304.41,89.2154 1309.77,89.5049 1312.45,89.8047 1315.13,90.375 \n",
       "  1316.47,90.8762 1317.81,91.6742 1319.15,93.0596 1320.49,95.7898 1321.22,98.5673 1321.95,103.421 1322.68,113.085 1323.41,136.879 1324.14,225.654 1324.87,1462.26 \n",
       "  1325.6,976.915 1326.33,207.762 1327.06,133.015 1327.79,111.677 1328.52,102.758 1329.25,98.2034 1330.71,93.9091 1332.17,92.0147 1333.64,91.0155 1335.1,90.4249 \n",
       "  1336.56,90.047 1338.02,89.7906 1340.94,89.4751 1343.86,89.2956 1349.7,89.1093 1355.55,89.0194 1361.39,88.969 1367.23,88.9377 1378.92,88.9022 1390.61,88.883 \n",
       "  1402.29,88.8711 1413.98,88.8628 1461,88.8435 1508.02,88.8308 1612.01,88.8048 1710.94,88.7766 1813.81,88.7411 1900.4,88.7051 2006.12,88.6514 2105.5,88.589 \n",
       "  2264.72,88.4582 \n",
       "  \"/>\n",
       "<polygon clip-path=\"url(#clip2901)\" points=\"\n",
       "1969.12,251.724 2249.26,251.724 2249.26,130.764 1969.12,130.764 \n",
       "  \" fill=\"#ffffff\" fill-rule=\"evenodd\" fill-opacity=\"1\"/>\n",
       "<polyline clip-path=\"url(#clip2901)\" style=\"stroke:#000000; stroke-width:4; stroke-opacity:1; fill:none\" points=\"\n",
       "  1969.12,251.724 2249.26,251.724 2249.26,130.764 1969.12,130.764 1969.12,251.724 \n",
       "  \"/>\n",
       "<polyline clip-path=\"url(#clip2901)\" style=\"stroke:#009af9; stroke-width:4; stroke-opacity:1; fill:none\" points=\"\n",
       "  1993.12,191.244 2137.12,191.244 \n",
       "  \"/>\n",
       "<g clip-path=\"url(#clip2901)\">\n",
       "<text style=\"fill:#000000; fill-opacity:1; font-family:Arial,Helvetica Neue,Helvetica,sans-serif; font-size:48px; text-anchor:start;\" transform=\"rotate(0, 2161.12, 208.744)\" x=\"2161.12\" y=\"208.744\">f6</text>\n",
       "</g>\n",
       "</svg>\n"
      ]
     },
     "execution_count": 12,
     "metadata": {},
     "output_type": "execute_result"
    }
   ],
   "source": [
    "f6(x) = exp(x)-2-1/(10*x)^2+2/(100*x)^3\n",
    "plot(f6, -2, 2, label = \"f6\")"
   ]
  },
  {
   "cell_type": "code",
   "execution_count": 13,
   "metadata": {},
   "outputs": [
    {
     "name": "stdout",
     "output_type": "stream",
     "text": [
      "Results of univariate zero finding:\n",
      "\n",
      "* Converged to: 0.7032048403631358\n",
      "* Algorithm: FalsePosition{:anderson_bjork}()\n",
      "* iterations: 8\n",
      "* function evaluations: 10\n",
      "* stopped as |f(x_n)| ≤ max(δ, max(1,|x|)⋅ϵ) using δ = atol, ϵ = rtol\n",
      "\n",
      "Trace:\n",
      "(a_0, b_0) = ( 0.0000000000000000,  5.0000000000000000)\n",
      "(a_1, b_1) = ( 0.0000000000000000,  2.5000000000000000)\n",
      "(a_2, b_2) = ( 0.0000000000000000,  1.2500000000000000)\n",
      "(a_3, b_3) = ( 1.2500000000000000,  0.6250000000000000)\n",
      "(a_4, b_4) = ( 1.2500000000000000,  0.6849169961854040)\n",
      "(a_5, b_5) = ( 1.2500000000000000,  0.7031884111107530)\n",
      "(a_6, b_6) = ( 0.7031884111107530,  0.7032049676656591)\n",
      "(a_7, b_7) = ( 0.7032049676656591,  0.7032048403622425)\n",
      "(a_8, b_8) = ( 0.7032048403622425,  0.7032048403631358)\n",
      "\n"
     ]
    },
    {
     "data": {
      "text/plain": [
       "false"
      ]
     },
     "execution_count": 13,
     "metadata": {},
     "output_type": "execute_result"
    }
   ],
   "source": [
    "x6 = find_zero(f6, (-5, 5), FalsePosition(), verbose=true)\n",
    "iszero(f6(x6))"
   ]
  },
  {
   "cell_type": "markdown",
   "metadata": {},
   "source": [
    "<b> Metoda wykorzystująca pochodną"
   ]
  },
  {
   "cell_type": "code",
   "execution_count": 14,
   "metadata": {},
   "outputs": [
    {
     "name": "stdout",
     "output_type": "stream",
     "text": [
      "Results of univariate zero finding:\n",
      "\n",
      "* Converged to: 0.0\n",
      "* Algorithm: Roots.Newton()\n",
      "* iterations: 0\n",
      "* function evaluations: 1\n",
      "* stopped as |f(x_n)| ≤ max(δ, max(1,|x|)⋅ϵ) using δ = atol, ϵ = rtol\n",
      "\n",
      "Trace:\n",
      "x_0 =  0.0000000000000000,\t fx_0 =  0.0000000000000000\n",
      "\n"
     ]
    },
    {
     "data": {
      "text/plain": [
       "true"
      ]
     },
     "execution_count": 14,
     "metadata": {},
     "output_type": "execute_result"
    }
   ],
   "source": [
    "# definujemy D(f) obliczającą  funkcje pochodną \n",
    "D1(f1) = x->ForwardDiff.derivative(f1, float(x))\n",
    "plot(D1(f1), -5, 5, label = \"D1\", color = \"blue\")\n",
    "\n",
    "x1 = find_zero((f1, D1(f1)), 0, Roots.Newton(), verbose=true)\n",
    "iszero(f1(x1))"
   ]
  },
  {
   "cell_type": "code",
   "execution_count": 15,
   "metadata": {},
   "outputs": [
    {
     "name": "stdout",
     "output_type": "stream",
     "text": [
      "Results of univariate zero finding:\n",
      "\n",
      "* Converged to: 0.0\n",
      "* Algorithm: Roots.Halley()\n",
      "* iterations: 0\n",
      "* function evaluations: 3\n",
      "* stopped as |f(x_n)| ≤ max(δ, max(1,|x|)⋅ϵ) using δ = atol, ϵ = rtol\n",
      "\n",
      "Trace:\n",
      "x_0 =  0.0000000000000000,\t fx_0 =  0.0000000000000000\n",
      "\n"
     ]
    },
    {
     "data": {
      "text/plain": [
       "true"
      ]
     },
     "execution_count": 15,
     "metadata": {},
     "output_type": "execute_result"
    }
   ],
   "source": [
    "DD1(f1) = x->ForwardDiff.derivative(D1(f1), float(x))\n",
    "plot(DD1(f1), -5, 5, label = \"DD1\", color = \"blue\")\n",
    "\n",
    "x1 = find_zero((f1, D1(f1), DD1(f1)), 0.0, Roots.Halley(), verbose=true)\n",
    "iszero(f1(x1))"
   ]
  },
  {
   "cell_type": "code",
   "execution_count": 16,
   "metadata": {},
   "outputs": [
    {
     "name": "stdout",
     "output_type": "stream",
     "text": [
      "Results of univariate zero finding:\n",
      "\n",
      "* Converged to: 0.35173371124919584\n",
      "* Algorithm: Roots.Newton()\n",
      "* iterations: 4\n",
      "* function evaluations: 9\n",
      "* stopped as |f(x_n)| ≤ max(δ, max(1,|x|)⋅ϵ) using δ = atol, ϵ = rtol\n",
      "\n",
      "Trace:\n",
      "x_0 =  0.0000000000000000,\t fx_0 = -1.0000000000000000\n",
      "x_1 =  0.3333333333333333,\t fx_1 = -0.0498646439071226\n",
      "x_2 =  0.3516893315554154,\t fx_2 = -0.0001199797491258\n",
      "x_3 =  0.3517337109929426,\t fx_3 = -0.0000000006927722\n",
      "x_4 =  0.3517337112491958,\t fx_4 =  0.0000000000000000\n",
      "\n"
     ]
    },
    {
     "data": {
      "text/plain": [
       "true"
      ]
     },
     "execution_count": 16,
     "metadata": {},
     "output_type": "execute_result"
    }
   ],
   "source": [
    "D2(f2) = x->ForwardDiff.derivative(f2, float(x))\n",
    "plot(D2(f2), -5, 5, label = \"D2\", color = \"blue\")\n",
    "\n",
    "x2 = find_zero((f2, D2(f2)), 0, Roots.Newton(), verbose=true)\n",
    "iszero(f2(x2))"
   ]
  },
  {
   "cell_type": "code",
   "execution_count": 17,
   "metadata": {},
   "outputs": [
    {
     "name": "stdout",
     "output_type": "stream",
     "text": [
      "Results of univariate zero finding:\n",
      "\n",
      "* Converged to: 0.0\n",
      "* Algorithm: Roots.Newton()\n",
      "* iterations: 0\n",
      "* function evaluations: 1\n",
      "* stopped as |f(x_n)| ≤ max(δ, max(1,|x|)⋅ϵ) using δ = atol, ϵ = rtol\n",
      "\n",
      "Trace:\n",
      "x_0 =  0.0000000000000000,\t fx_0 =  0.0000000000000000\n",
      "\n"
     ]
    },
    {
     "data": {
      "text/plain": [
       "true"
      ]
     },
     "execution_count": 17,
     "metadata": {},
     "output_type": "execute_result"
    }
   ],
   "source": [
    "D3(f3) = x->ForwardDiff.derivative(f3, float(x))\n",
    "plot(D3(f3), -5, 5, label = \"D3\", color = \"blue\")\n",
    "\n",
    "x3 = find_zero((f3, D3(f3)), 0, Roots.Newton(), verbose=true)\n",
    "iszero(f3(x3))"
   ]
  },
  {
   "cell_type": "code",
   "execution_count": 18,
   "metadata": {},
   "outputs": [
    {
     "name": "stdout",
     "output_type": "stream",
     "text": [
      "Results of univariate zero finding:\n",
      "\n",
      "* Converged to: 0.0\n",
      "* Algorithm: Roots.Newton()\n",
      "* iterations: 0\n",
      "* function evaluations: 1\n",
      "* stopped as |f(x_n)| ≤ max(δ, max(1,|x|)⋅ϵ) using δ = atol, ϵ = rtol\n",
      "\n",
      "Trace:\n",
      "x_0 =  0.0000000000000000,\t fx_0 =  0.0000000000000000\n",
      "\n"
     ]
    },
    {
     "data": {
      "text/plain": [
       "true"
      ]
     },
     "execution_count": 18,
     "metadata": {},
     "output_type": "execute_result"
    }
   ],
   "source": [
    "D4(f4) = x->ForwardDiff.derivative(f4, float(x))\n",
    "plot(D4(f4), -5, 5, label = \"D4\", color = \"blue\")\n",
    "\n",
    "x4 = find_zero((f4, D4(f4)), 0, Roots.Newton(), verbose=true)\n",
    "iszero(f4(x4))"
   ]
  },
  {
   "cell_type": "code",
   "execution_count": 19,
   "metadata": {},
   "outputs": [
    {
     "name": "stdout",
     "output_type": "stream",
     "text": [
      "Results of univariate zero finding:\n",
      "\n",
      "* Converged to: 0.7390851332151607\n",
      "* Algorithm: Roots.Newton()\n",
      "* iterations: 5\n",
      "* function evaluations: 11\n",
      "* stopped as |f(x_n)| ≤ max(δ, max(1,|x|)⋅ϵ) using δ = atol, ϵ = rtol\n",
      "\n",
      "Trace:\n",
      "x_0 =  0.0000000000000000,\t fx_0 =  1.0000000000000000\n",
      "x_1 =  1.0000000000000000,\t fx_1 = -0.4596976941318602\n",
      "x_2 =  0.7503638678402439,\t fx_2 = -0.0189230738221174\n",
      "x_3 =  0.7391128909113617,\t fx_3 = -0.0000464558989908\n",
      "x_4 =  0.7390851333852840,\t fx_4 = -0.0000000002847206\n",
      "x_5 =  0.7390851332151607,\t fx_5 =  0.0000000000000000\n",
      "\n"
     ]
    },
    {
     "data": {
      "text/plain": [
       "true"
      ]
     },
     "execution_count": 19,
     "metadata": {},
     "output_type": "execute_result"
    }
   ],
   "source": [
    "D5(f5) = x->ForwardDiff.derivative(f5, float(x))\n",
    "plot(D5(f5), -5, 5, label = \"D5\", color = \"blue\")\n",
    "\n",
    "x5 = find_zero((f5, D5(f5)), 0, Roots.Newton(), verbose=true)\n",
    "iszero(f5(x5))"
   ]
  },
  {
   "cell_type": "code",
   "execution_count": 20,
   "metadata": {},
   "outputs": [
    {
     "name": "stdout",
     "output_type": "stream",
     "text": [
      "Results of univariate zero finding:\n",
      "\n",
      "* Convergence failed: NaN produced by algorithm. \n",
      "* Algorithm Roots.Newton()\n",
      "\n",
      "Trace:\n",
      "x_0 =  0.0000000000000000,\t fx_0 =                NaN\n",
      "\n"
     ]
    },
    {
     "ename": "Roots.ConvergenceFailed",
     "evalue": "Roots.ConvergenceFailed(\"Stopped at: xn = 0.0\")",
     "output_type": "error",
     "traceback": [
      "Roots.ConvergenceFailed(\"Stopped at: xn = 0.0\")",
      "",
      "Stacktrace:",
      " [1] #find_zero#4(::Roots.NullTracks, ::Bool, ::Base.Iterators.Pairs{Union{},Union{},Tuple{},NamedTuple{(),Tuple{}}}, ::Function, ::Tuple{typeof(f6),getfield(Main, Symbol(\"##15#16\")){typeof(f6)}}, ::Int64, ::Roots.Newton, ::Nothing) at /home/jrun/.julia/packages/Roots/xWzoi/src/find_zero.jl:542",
      " [2] #find_zero at ./none:0 [inlined] (repeats 2 times)",
      " [3] top-level scope at In[20]:3"
     ]
    }
   ],
   "source": [
    "D6(f6) = x->ForwardDiff.derivative(f6, float(x))\n",
    "plot(D6(f6), -5, 5, label = \"D6\", color = \"blue\")\n",
    "\n",
    "x6 = find_zero((f6, D6(f6)), 0, Roots.Newton(), verbose=true)\n",
    "iszero(f6(x6))"
   ]
  },
  {
   "cell_type": "markdown",
   "metadata": {},
   "source": [
    "<b> Metoda wykorzystująca przybliżenie pochodnej"
   ]
  },
  {
   "cell_type": "code",
   "execution_count": 38,
   "metadata": {},
   "outputs": [
    {
     "name": "stdout",
     "output_type": "stream",
     "text": [
      "Results of univariate zero finding:\n",
      "\n",
      "* Converged to: 0.0\n",
      "* Algorithm: Roots.Secant()\n",
      "* iterations: 0\n",
      "* function evaluations: 2\n",
      "* stopped as |f(x_n)| ≤ max(δ, max(1,|x|)⋅ϵ) using δ = atol, ϵ = rtol\n",
      "\n",
      "Trace:\n",
      "x_0 =  0.0000000000000000,\t fx_0 =  0.0000000000000000\n",
      "\n"
     ]
    },
    {
     "data": {
      "text/plain": [
       "true"
      ]
     },
     "execution_count": 38,
     "metadata": {},
     "output_type": "execute_result"
    }
   ],
   "source": [
    "x1 = find_zero(f1, 0, Order1(),  verbose=true)\n",
    "iszero(f1(x1))"
   ]
  },
  {
   "cell_type": "code",
   "execution_count": 39,
   "metadata": {},
   "outputs": [
    {
     "name": "stdout",
     "output_type": "stream",
     "text": [
      "Results of univariate zero finding:\n",
      "\n",
      "* Converged to: 0.3517337112491957\n",
      "* Algorithm: Roots.Secant()\n",
      "* iterations: 5\n",
      "* function evaluations: 7\n",
      "* stopped as |f(x_n)| ≤ max(δ, max(1,|x|)⋅ϵ) using δ = atol, ϵ = rtol\n",
      "\n",
      "Trace:\n",
      "x_0 =  0.0000000000000000,\t fx_0 = -1.0000000000000000\n",
      "x_1 =  0.3333336697473491,\t fx_1 = -0.0498637300279561\n",
      "x_2 =  0.3508272237172430,\t fx_2 = -0.0024509486253887\n",
      "x_3 =  0.3517315326564641,\t fx_3 = -0.0000058897561466\n",
      "x_4 =  0.3517337109922089,\t fx_4 = -0.0000000006947557\n",
      "x_5 =  0.3517337112491957,\t fx_5 = -0.0000000000000002\n",
      "\n"
     ]
    },
    {
     "data": {
      "text/plain": [
       "false"
      ]
     },
     "execution_count": 39,
     "metadata": {},
     "output_type": "execute_result"
    }
   ],
   "source": [
    "x2 = find_zero(f2, 0, Order1(),  verbose=true)\n",
    "iszero(f2(x2))"
   ]
  },
  {
   "cell_type": "code",
   "execution_count": 40,
   "metadata": {},
   "outputs": [
    {
     "name": "stdout",
     "output_type": "stream",
     "text": [
      "Results of univariate zero finding:\n",
      "\n",
      "* Converged to: 0.0\n",
      "* Algorithm: Roots.Secant()\n",
      "* iterations: 0\n",
      "* function evaluations: 2\n",
      "* stopped as |f(x_n)| ≤ max(δ, max(1,|x|)⋅ϵ) using δ = atol, ϵ = rtol\n",
      "\n",
      "Trace:\n",
      "x_0 =  0.0000000000000000,\t fx_0 =  0.0000000000000000\n",
      "\n"
     ]
    },
    {
     "data": {
      "text/plain": [
       "true"
      ]
     },
     "execution_count": 40,
     "metadata": {},
     "output_type": "execute_result"
    }
   ],
   "source": [
    "x3 = find_zero(f3, 0, Order1(),  verbose=true)\n",
    "iszero(f3(x3))"
   ]
  },
  {
   "cell_type": "code",
   "execution_count": 41,
   "metadata": {},
   "outputs": [
    {
     "name": "stdout",
     "output_type": "stream",
     "text": [
      "Results of univariate zero finding:\n",
      "\n",
      "* Converged to: 0.0\n",
      "* Algorithm: Roots.Secant()\n",
      "* iterations: 0\n",
      "* function evaluations: 2\n",
      "* stopped as |f(x_n)| ≤ max(δ, max(1,|x|)⋅ϵ) using δ = atol, ϵ = rtol\n",
      "\n",
      "Trace:\n",
      "x_0 =  0.0000000000000000,\t fx_0 =  0.0000000000000000\n",
      "\n"
     ]
    },
    {
     "data": {
      "text/plain": [
       "true"
      ]
     },
     "execution_count": 41,
     "metadata": {},
     "output_type": "execute_result"
    }
   ],
   "source": [
    "x4 = find_zero(f4, 0, Order1(),  verbose=true)\n",
    "iszero(f4(x4))"
   ]
  },
  {
   "cell_type": "code",
   "execution_count": 42,
   "metadata": {},
   "outputs": [
    {
     "name": "stdout",
     "output_type": "stream",
     "text": [
      "Results of univariate zero finding:\n",
      "\n",
      "* Converged to: 0.7390851332151607\n",
      "* Algorithm: Roots.Secant()\n",
      "* iterations: 7\n",
      "* function evaluations: 9\n",
      "* stopped as |f(x_n)| ≤ max(δ, max(1,|x|)⋅ϵ) using δ = atol, ϵ = rtol\n",
      "\n",
      "Trace:\n",
      "x_0 =  0.0000000000000000,\t fx_0 =  1.0000000000000000\n",
      "x_1 =  0.9999969722835395,\t fx_1 = -0.4596921186823245\n",
      "x_2 =  0.6850738998209051,\t fx_2 =  0.0892983907342114\n",
      "x_3 =  0.7362990541607765,\t fx_3 =  0.0046599445167861\n",
      "x_4 =  0.7391193608624661,\t fx_4 = -0.0000572842351875\n",
      "x_5 =  0.7390851121285389,\t fx_5 =  0.0000000352908237\n",
      "x_6 =  0.7390851332150014,\t fx_6 =  0.0000000000002666\n",
      "x_7 =  0.7390851332151607,\t fx_7 =  0.0000000000000000\n",
      "\n"
     ]
    },
    {
     "data": {
      "text/plain": [
       "true"
      ]
     },
     "execution_count": 42,
     "metadata": {},
     "output_type": "execute_result"
    }
   ],
   "source": [
    "x5 = find_zero(f5, 0, Order1(),  verbose=true)\n",
    "iszero(f5(x5))"
   ]
  },
  {
   "cell_type": "code",
   "execution_count": 43,
   "metadata": {},
   "outputs": [
    {
     "name": "stdout",
     "output_type": "stream",
     "text": [
      "Results of univariate zero finding:\n",
      "\n",
      "* Convergence failed: NaN produced by algorithm. \n",
      "* Algorithm Roots.Secant()\n",
      "\n",
      "Trace:\n",
      "x_0 =  0.0000000000000000,\t fx_0 =                NaN\n",
      "\n"
     ]
    },
    {
     "ename": "Roots.ConvergenceFailed",
     "evalue": "Roots.ConvergenceFailed(\"Stopped at: xn = 0.0\")",
     "output_type": "error",
     "traceback": [
      "Roots.ConvergenceFailed(\"Stopped at: xn = 0.0\")",
      "",
      "Stacktrace:",
      " [1] #find_zero#4(::Roots.NullTracks, ::Bool, ::Base.Iterators.Pairs{Union{},Union{},Tuple{},NamedTuple{(),Tuple{}}}, ::Core.Function, ::Core.Function, ::Int64, ::Roots.Secant, ::Nothing) at /home/jrun/.julia/packages/Roots/xWzoi/src/find_zero.jl:542",
      " [2] #find_zero at ./none:0 [inlined] (repeats 2 times)",
      " [3] top-level scope at In[43]:1"
     ]
    }
   ],
   "source": [
    "x6 = find_zero(f6, 0, Order1(),  verbose=true)\n",
    "iszero(f6(x6))"
   ]
  },
  {
   "cell_type": "code",
   "execution_count": 44,
   "metadata": {},
   "outputs": [
    {
     "data": {
      "text/plain": [
       "18-element Array{String,1}:\n",
       " \"Yes\"  \n",
       " \"Yes\"  \n",
       " \"No\"   \n",
       " \"No\"   \n",
       " \"Yes\"  \n",
       " \"No\"   \n",
       " \"Yes\"  \n",
       " \"Yes\"  \n",
       " \"Yes\"  \n",
       " \"Yes\"  \n",
       " \"Yes\"  \n",
       " \"Error\"\n",
       " \"Yes\"  \n",
       " \"No\"   \n",
       " \"Yes\"  \n",
       " \"Yes\"  \n",
       " \"Yes\"  \n",
       " \"Error\""
      ]
     },
     "execution_count": 44,
     "metadata": {},
     "output_type": "execute_result"
    }
   ],
   "source": [
    "Function = []\n",
    "Type = []\n",
    "Iterations = Int[]\n",
    "Evaluations = Int[]\n",
    "Success = []\n",
    "\n",
    "for i in 1:3\n",
    "    push!(Function, \"f1\")\n",
    "    push!(Function, \"f2\")\n",
    "    push!(Function, \"f3\")\n",
    "    push!(Function, \"f4\")\n",
    "    push!(Function, \"f5\")\n",
    "    push!(Function, \"f6\")\n",
    "end\n",
    "for i in 1:6\n",
    "    push!(Type, \"Regula falsi method\")\n",
    "end\n",
    "for i in 1:6\n",
    "    push!(Type, \"Newton method\")\n",
    "end\n",
    "for i in 1:6\n",
    "    push!(Type, \"Secant\")\n",
    "end\n",
    "\n",
    "Iterations = [9, 7, 41, 19, 8, 8, 0, 4, 0, 0, 5, -1, 0, 5, 0, 0, 7, -1]\n",
    "Evaluations = [11, 9, 43, 21, 10, 10, 1, 9, 1, 1, 11, -1, 2, 7, 2, 2, 9, -1]\n",
    "Success = [\"Yes\", \"Yes\", \"No\", \"No\", \"Yes\", \"No\", \"Yes\", \"Yes\", \"Yes\", \"Yes\", \"Yes\", \"Error\", \"Yes\", \"No\", \"Yes\", \"Yes\", \"Yes\", \"Error\"]"
   ]
  },
  {
   "cell_type": "code",
   "execution_count": 47,
   "metadata": {},
   "outputs": [
    {
     "data": {
      "text/html": [
       "<table class=\"data-frame\"><thead><tr><th></th><th>Function</th><th>Type</th><th>Iterations</th><th>Evaluations</th><th>Success</th></tr><tr><th></th><th>Any</th><th>Any</th><th>Int64</th><th>Int64</th><th>String</th></tr></thead><tbody><p>18 rows × 5 columns</p><tr><th>1</th><td>f1</td><td>Regula falsi method</td><td>9</td><td>11</td><td>Yes</td></tr><tr><th>2</th><td>f2</td><td>Regula falsi method</td><td>7</td><td>9</td><td>Yes</td></tr><tr><th>3</th><td>f3</td><td>Regula falsi method</td><td>41</td><td>43</td><td>No</td></tr><tr><th>4</th><td>f4</td><td>Regula falsi method</td><td>19</td><td>21</td><td>No</td></tr><tr><th>5</th><td>f5</td><td>Regula falsi method</td><td>8</td><td>10</td><td>Yes</td></tr><tr><th>6</th><td>f6</td><td>Regula falsi method</td><td>8</td><td>10</td><td>No</td></tr><tr><th>7</th><td>f1</td><td>Newton method</td><td>0</td><td>1</td><td>Yes</td></tr><tr><th>8</th><td>f2</td><td>Newton method</td><td>4</td><td>9</td><td>Yes</td></tr><tr><th>9</th><td>f3</td><td>Newton method</td><td>0</td><td>1</td><td>Yes</td></tr><tr><th>10</th><td>f4</td><td>Newton method</td><td>0</td><td>1</td><td>Yes</td></tr><tr><th>11</th><td>f5</td><td>Newton method</td><td>5</td><td>11</td><td>Yes</td></tr><tr><th>12</th><td>f6</td><td>Newton method</td><td>-1</td><td>-1</td><td>Error</td></tr><tr><th>13</th><td>f1</td><td>Secant</td><td>0</td><td>2</td><td>Yes</td></tr><tr><th>14</th><td>f2</td><td>Secant</td><td>5</td><td>7</td><td>No</td></tr><tr><th>15</th><td>f3</td><td>Secant</td><td>0</td><td>2</td><td>Yes</td></tr><tr><th>16</th><td>f4</td><td>Secant</td><td>0</td><td>2</td><td>Yes</td></tr><tr><th>17</th><td>f5</td><td>Secant</td><td>7</td><td>9</td><td>Yes</td></tr><tr><th>18</th><td>f6</td><td>Secant</td><td>-1</td><td>-1</td><td>Error</td></tr></tbody></table>"
      ],
      "text/latex": [
       "\\begin{tabular}{r|ccccc}\n",
       "\t& Function & Type & Iterations & Evaluations & Success\\\\\n",
       "\t\\hline\n",
       "\t& Any & Any & Int64 & Int64 & String\\\\\n",
       "\t\\hline\n",
       "\t1 & f1 & Regula falsi method & 9 & 11 & Yes \\\\\n",
       "\t2 & f2 & Regula falsi method & 7 & 9 & Yes \\\\\n",
       "\t3 & f3 & Regula falsi method & 41 & 43 & No \\\\\n",
       "\t4 & f4 & Regula falsi method & 19 & 21 & No \\\\\n",
       "\t5 & f5 & Regula falsi method & 8 & 10 & Yes \\\\\n",
       "\t6 & f6 & Regula falsi method & 8 & 10 & No \\\\\n",
       "\t7 & f1 & Newton method & 0 & 1 & Yes \\\\\n",
       "\t8 & f2 & Newton method & 4 & 9 & Yes \\\\\n",
       "\t9 & f3 & Newton method & 0 & 1 & Yes \\\\\n",
       "\t10 & f4 & Newton method & 0 & 1 & Yes \\\\\n",
       "\t11 & f5 & Newton method & 5 & 11 & Yes \\\\\n",
       "\t12 & f6 & Newton method & -1 & -1 & Error \\\\\n",
       "\t13 & f1 & Secant & 0 & 2 & Yes \\\\\n",
       "\t14 & f2 & Secant & 5 & 7 & No \\\\\n",
       "\t15 & f3 & Secant & 0 & 2 & Yes \\\\\n",
       "\t16 & f4 & Secant & 0 & 2 & Yes \\\\\n",
       "\t17 & f5 & Secant & 7 & 9 & Yes \\\\\n",
       "\t18 & f6 & Secant & -1 & -1 & Error \\\\\n",
       "\\end{tabular}\n"
      ],
      "text/plain": [
       "18×5 DataFrame\n",
       "│ Row │ Function │ Type                │ Iterations │ Evaluations │ Success │\n",
       "│     │ \u001b[90mAny\u001b[39m      │ \u001b[90mAny\u001b[39m                 │ \u001b[90mInt64\u001b[39m      │ \u001b[90mInt64\u001b[39m       │ \u001b[90mString\u001b[39m  │\n",
       "├─────┼──────────┼─────────────────────┼────────────┼─────────────┼─────────┤\n",
       "│ 1   │ f1       │ Regula falsi method │ 9          │ 11          │ Yes     │\n",
       "│ 2   │ f2       │ Regula falsi method │ 7          │ 9           │ Yes     │\n",
       "│ 3   │ f3       │ Regula falsi method │ 41         │ 43          │ No      │\n",
       "│ 4   │ f4       │ Regula falsi method │ 19         │ 21          │ No      │\n",
       "│ 5   │ f5       │ Regula falsi method │ 8          │ 10          │ Yes     │\n",
       "│ 6   │ f6       │ Regula falsi method │ 8          │ 10          │ No      │\n",
       "│ 7   │ f1       │ Newton method       │ 0          │ 1           │ Yes     │\n",
       "│ 8   │ f2       │ Newton method       │ 4          │ 9           │ Yes     │\n",
       "│ 9   │ f3       │ Newton method       │ 0          │ 1           │ Yes     │\n",
       "│ 10  │ f4       │ Newton method       │ 0          │ 1           │ Yes     │\n",
       "│ 11  │ f5       │ Newton method       │ 5          │ 11          │ Yes     │\n",
       "│ 12  │ f6       │ Newton method       │ -1         │ -1          │ Error   │\n",
       "│ 13  │ f1       │ Secant              │ 0          │ 2           │ Yes     │\n",
       "│ 14  │ f2       │ Secant              │ 5          │ 7           │ No      │\n",
       "│ 15  │ f3       │ Secant              │ 0          │ 2           │ Yes     │\n",
       "│ 16  │ f4       │ Secant              │ 0          │ 2           │ Yes     │\n",
       "│ 17  │ f5       │ Secant              │ 7          │ 9           │ Yes     │\n",
       "│ 18  │ f6       │ Secant              │ -1         │ -1          │ Error   │"
      ]
     },
     "execution_count": 47,
     "metadata": {},
     "output_type": "execute_result"
    }
   ],
   "source": [
    "using DataFrames\n",
    "\n",
    "data = DataFrame()\n",
    "data[:Function] = Function\n",
    "data[:Type] = Type\n",
    "data[:Iterations] = Iterations\n",
    "data[:Evaluations] = Evaluations\n",
    "data[:Success] = Success\n",
    "data"
   ]
  },
  {
   "cell_type": "markdown",
   "metadata": {},
   "source": [
    "<b> 2. Zademonstrować wybrany, ciekawy przykład trudnej funkcji z p.1 i działania metod na niej."
   ]
  },
  {
   "cell_type": "code",
   "execution_count": 22,
   "metadata": {},
   "outputs": [
    {
     "data": {
      "image/svg+xml": [
       "<?xml version=\"1.0\" encoding=\"utf-8\"?>\n",
       "<svg xmlns=\"http://www.w3.org/2000/svg\" xmlns:xlink=\"http://www.w3.org/1999/xlink\" width=\"600\" height=\"400\" viewBox=\"0 0 2400 1600\">\n",
       "<defs>\n",
       "  <clipPath id=\"clip3300\">\n",
       "    <rect x=\"0\" y=\"0\" width=\"2000\" height=\"2000\"/>\n",
       "  </clipPath>\n",
       "</defs>\n",
       "<defs>\n",
       "  <clipPath id=\"clip3301\">\n",
       "    <rect x=\"0\" y=\"0\" width=\"2400\" height=\"1600\"/>\n",
       "  </clipPath>\n",
       "</defs>\n",
       "<polygon clip-path=\"url(#clip3301)\" points=\"\n",
       "0,1600 2400,1600 2400,0 0,0 \n",
       "  \" fill=\"#ffffff\" fill-rule=\"evenodd\" fill-opacity=\"1\"/>\n",
       "<defs>\n",
       "  <clipPath id=\"clip3302\">\n",
       "    <rect x=\"480\" y=\"0\" width=\"1681\" height=\"1600\"/>\n",
       "  </clipPath>\n",
       "</defs>\n",
       "<polygon clip-path=\"url(#clip3301)\" points=\"\n",
       "149.361,1503.47 2321.26,1503.47 2321.26,47.2441 149.361,47.2441 \n",
       "  \" fill=\"#ffffff\" fill-rule=\"evenodd\" fill-opacity=\"1\"/>\n",
       "<defs>\n",
       "  <clipPath id=\"clip3303\">\n",
       "    <rect x=\"149\" y=\"47\" width=\"2173\" height=\"1457\"/>\n",
       "  </clipPath>\n",
       "</defs>\n",
       "<polyline clip-path=\"url(#clip3303)\" style=\"stroke:#000000; stroke-width:2; stroke-opacity:0.1; fill:none\" points=\"\n",
       "  407.936,1503.47 407.936,47.2441 \n",
       "  \"/>\n",
       "<polyline clip-path=\"url(#clip3303)\" style=\"stroke:#000000; stroke-width:2; stroke-opacity:0.1; fill:none\" points=\"\n",
       "  822.385,1503.47 822.385,47.2441 \n",
       "  \"/>\n",
       "<polyline clip-path=\"url(#clip3303)\" style=\"stroke:#000000; stroke-width:2; stroke-opacity:0.1; fill:none\" points=\"\n",
       "  1236.84,1503.47 1236.84,47.2441 \n",
       "  \"/>\n",
       "<polyline clip-path=\"url(#clip3303)\" style=\"stroke:#000000; stroke-width:2; stroke-opacity:0.1; fill:none\" points=\"\n",
       "  1651.28,1503.47 1651.28,47.2441 \n",
       "  \"/>\n",
       "<polyline clip-path=\"url(#clip3303)\" style=\"stroke:#000000; stroke-width:2; stroke-opacity:0.1; fill:none\" points=\"\n",
       "  2065.73,1503.47 2065.73,47.2441 \n",
       "  \"/>\n",
       "<polyline clip-path=\"url(#clip3303)\" style=\"stroke:#000000; stroke-width:2; stroke-opacity:0.1; fill:none\" points=\"\n",
       "  149.361,1363.16 2321.26,1363.16 \n",
       "  \"/>\n",
       "<polyline clip-path=\"url(#clip3303)\" style=\"stroke:#000000; stroke-width:2; stroke-opacity:0.1; fill:none\" points=\"\n",
       "  149.361,1085.68 2321.26,1085.68 \n",
       "  \"/>\n",
       "<polyline clip-path=\"url(#clip3303)\" style=\"stroke:#000000; stroke-width:2; stroke-opacity:0.1; fill:none\" points=\"\n",
       "  149.361,808.201 2321.26,808.201 \n",
       "  \"/>\n",
       "<polyline clip-path=\"url(#clip3303)\" style=\"stroke:#000000; stroke-width:2; stroke-opacity:0.1; fill:none\" points=\"\n",
       "  149.361,530.72 2321.26,530.72 \n",
       "  \"/>\n",
       "<polyline clip-path=\"url(#clip3303)\" style=\"stroke:#000000; stroke-width:2; stroke-opacity:0.1; fill:none\" points=\"\n",
       "  149.361,253.239 2321.26,253.239 \n",
       "  \"/>\n",
       "<polyline clip-path=\"url(#clip3301)\" style=\"stroke:#000000; stroke-width:4; stroke-opacity:1; fill:none\" points=\"\n",
       "  149.361,1503.47 2321.26,1503.47 \n",
       "  \"/>\n",
       "<polyline clip-path=\"url(#clip3301)\" style=\"stroke:#000000; stroke-width:4; stroke-opacity:1; fill:none\" points=\"\n",
       "  149.361,1503.47 149.361,47.2441 \n",
       "  \"/>\n",
       "<polyline clip-path=\"url(#clip3301)\" style=\"stroke:#000000; stroke-width:4; stroke-opacity:1; fill:none\" points=\"\n",
       "  407.936,1503.47 407.936,1481.63 \n",
       "  \"/>\n",
       "<polyline clip-path=\"url(#clip3301)\" style=\"stroke:#000000; stroke-width:4; stroke-opacity:1; fill:none\" points=\"\n",
       "  822.385,1503.47 822.385,1481.63 \n",
       "  \"/>\n",
       "<polyline clip-path=\"url(#clip3301)\" style=\"stroke:#000000; stroke-width:4; stroke-opacity:1; fill:none\" points=\"\n",
       "  1236.84,1503.47 1236.84,1481.63 \n",
       "  \"/>\n",
       "<polyline clip-path=\"url(#clip3301)\" style=\"stroke:#000000; stroke-width:4; stroke-opacity:1; fill:none\" points=\"\n",
       "  1651.28,1503.47 1651.28,1481.63 \n",
       "  \"/>\n",
       "<polyline clip-path=\"url(#clip3301)\" style=\"stroke:#000000; stroke-width:4; stroke-opacity:1; fill:none\" points=\"\n",
       "  2065.73,1503.47 2065.73,1481.63 \n",
       "  \"/>\n",
       "<polyline clip-path=\"url(#clip3301)\" style=\"stroke:#000000; stroke-width:4; stroke-opacity:1; fill:none\" points=\"\n",
       "  149.361,1363.16 181.939,1363.16 \n",
       "  \"/>\n",
       "<polyline clip-path=\"url(#clip3301)\" style=\"stroke:#000000; stroke-width:4; stroke-opacity:1; fill:none\" points=\"\n",
       "  149.361,1085.68 181.939,1085.68 \n",
       "  \"/>\n",
       "<polyline clip-path=\"url(#clip3301)\" style=\"stroke:#000000; stroke-width:4; stroke-opacity:1; fill:none\" points=\"\n",
       "  149.361,808.201 181.939,808.201 \n",
       "  \"/>\n",
       "<polyline clip-path=\"url(#clip3301)\" style=\"stroke:#000000; stroke-width:4; stroke-opacity:1; fill:none\" points=\"\n",
       "  149.361,530.72 181.939,530.72 \n",
       "  \"/>\n",
       "<polyline clip-path=\"url(#clip3301)\" style=\"stroke:#000000; stroke-width:4; stroke-opacity:1; fill:none\" points=\"\n",
       "  149.361,253.239 181.939,253.239 \n",
       "  \"/>\n",
       "<g clip-path=\"url(#clip3301)\">\n",
       "<text style=\"fill:#000000; fill-opacity:1; font-family:Arial,Helvetica Neue,Helvetica,sans-serif; font-size:48px; text-anchor:middle;\" transform=\"rotate(0, 407.936, 1557.47)\" x=\"407.936\" y=\"1557.47\">-4</text>\n",
       "</g>\n",
       "<g clip-path=\"url(#clip3301)\">\n",
       "<text style=\"fill:#000000; fill-opacity:1; font-family:Arial,Helvetica Neue,Helvetica,sans-serif; font-size:48px; text-anchor:middle;\" transform=\"rotate(0, 822.385, 1557.47)\" x=\"822.385\" y=\"1557.47\">-2</text>\n",
       "</g>\n",
       "<g clip-path=\"url(#clip3301)\">\n",
       "<text style=\"fill:#000000; fill-opacity:1; font-family:Arial,Helvetica Neue,Helvetica,sans-serif; font-size:48px; text-anchor:middle;\" transform=\"rotate(0, 1236.84, 1557.47)\" x=\"1236.84\" y=\"1557.47\">0</text>\n",
       "</g>\n",
       "<g clip-path=\"url(#clip3301)\">\n",
       "<text style=\"fill:#000000; fill-opacity:1; font-family:Arial,Helvetica Neue,Helvetica,sans-serif; font-size:48px; text-anchor:middle;\" transform=\"rotate(0, 1651.28, 1557.47)\" x=\"1651.28\" y=\"1557.47\">2</text>\n",
       "</g>\n",
       "<g clip-path=\"url(#clip3301)\">\n",
       "<text style=\"fill:#000000; fill-opacity:1; font-family:Arial,Helvetica Neue,Helvetica,sans-serif; font-size:48px; text-anchor:middle;\" transform=\"rotate(0, 2065.73, 1557.47)\" x=\"2065.73\" y=\"1557.47\">4</text>\n",
       "</g>\n",
       "<g clip-path=\"url(#clip3301)\">\n",
       "<text style=\"fill:#000000; fill-opacity:1; font-family:Arial,Helvetica Neue,Helvetica,sans-serif; font-size:48px; text-anchor:end;\" transform=\"rotate(0, 125.361, 1380.66)\" x=\"125.361\" y=\"1380.66\">-4</text>\n",
       "</g>\n",
       "<g clip-path=\"url(#clip3301)\">\n",
       "<text style=\"fill:#000000; fill-opacity:1; font-family:Arial,Helvetica Neue,Helvetica,sans-serif; font-size:48px; text-anchor:end;\" transform=\"rotate(0, 125.361, 1103.18)\" x=\"125.361\" y=\"1103.18\">-2</text>\n",
       "</g>\n",
       "<g clip-path=\"url(#clip3301)\">\n",
       "<text style=\"fill:#000000; fill-opacity:1; font-family:Arial,Helvetica Neue,Helvetica,sans-serif; font-size:48px; text-anchor:end;\" transform=\"rotate(0, 125.361, 825.701)\" x=\"125.361\" y=\"825.701\">0</text>\n",
       "</g>\n",
       "<g clip-path=\"url(#clip3301)\">\n",
       "<text style=\"fill:#000000; fill-opacity:1; font-family:Arial,Helvetica Neue,Helvetica,sans-serif; font-size:48px; text-anchor:end;\" transform=\"rotate(0, 125.361, 548.22)\" x=\"125.361\" y=\"548.22\">2</text>\n",
       "</g>\n",
       "<g clip-path=\"url(#clip3301)\">\n",
       "<text style=\"fill:#000000; fill-opacity:1; font-family:Arial,Helvetica Neue,Helvetica,sans-serif; font-size:48px; text-anchor:end;\" transform=\"rotate(0, 125.361, 270.739)\" x=\"125.361\" y=\"270.739\">4</text>\n",
       "</g>\n",
       "<polyline clip-path=\"url(#clip3303)\" style=\"stroke:#009af9; stroke-width:4; stroke-opacity:1; fill:none\" points=\"\n",
       "  210.829,88.4582 220.948,101.852 314.509,226.563 408.07,344.084 464.297,406.534 520.523,460.528 544.292,480.496 568.061,498.678 591.831,515.042 615.6,529.584 \n",
       "  667.24,555.016 718.881,572.53 766.488,582.563 814.096,587.906 865.137,590.013 916.177,590.269 975.313,590.946 1034.45,595.033 1087,603.859 1139.55,619.339 \n",
       "  1185.64,639.396 1231.72,666.079 1256.84,683.503 1281.97,702.954 1307.09,724.393 1332.21,747.752 1382.75,800.152 1433.29,858.811 1545.06,1003 1651.4,1143.56 \n",
       "  1706.68,1211.78 1761.96,1273.7 1808.5,1319.63 1855.04,1359.1 1883.45,1379.83 1911.85,1397.95 1940.26,1413.49 1968.67,1426.5 2022.08,1444.57 2075.49,1455.34 \n",
       "  2161.06,1461.63 2246.62,1462.1 2259.79,1462.26 \n",
       "  \"/>\n",
       "<polygon clip-path=\"url(#clip3301)\" points=\"\n",
       "1969.12,251.724 2249.26,251.724 2249.26,130.764 1969.12,130.764 \n",
       "  \" fill=\"#ffffff\" fill-rule=\"evenodd\" fill-opacity=\"1\"/>\n",
       "<polyline clip-path=\"url(#clip3301)\" style=\"stroke:#000000; stroke-width:4; stroke-opacity:1; fill:none\" points=\"\n",
       "  1969.12,251.724 2249.26,251.724 2249.26,130.764 1969.12,130.764 1969.12,251.724 \n",
       "  \"/>\n",
       "<polyline clip-path=\"url(#clip3301)\" style=\"stroke:#009af9; stroke-width:4; stroke-opacity:1; fill:none\" points=\"\n",
       "  1993.12,191.244 2137.12,191.244 \n",
       "  \"/>\n",
       "<g clip-path=\"url(#clip3301)\">\n",
       "<text style=\"fill:#000000; fill-opacity:1; font-family:Arial,Helvetica Neue,Helvetica,sans-serif; font-size:48px; text-anchor:start;\" transform=\"rotate(0, 2161.12, 208.744)\" x=\"2161.12\" y=\"208.744\">f2</text>\n",
       "</g>\n",
       "</svg>\n"
      ]
     },
     "execution_count": 22,
     "metadata": {},
     "output_type": "execute_result"
    }
   ],
   "source": [
    "f2(x) = cos(x) - x\n",
    "plot(f2, -5, 5, label = \"f2\")"
   ]
  },
  {
   "cell_type": "code",
   "execution_count": 55,
   "metadata": {},
   "outputs": [
    {
     "name": "stdout",
     "output_type": "stream",
     "text": [
      "Results of univariate zero finding:\n",
      "\n",
      "* Converged to: 0.7390851332151607\n",
      "* Algorithm: FalsePosition{:anderson_bjork}()\n",
      "* iterations: 8\n",
      "* function evaluations: 10\n",
      "* stopped as |f(x_n)| ≤ max(δ, max(1,|x|)⋅ϵ) using δ = atol, ϵ = rtol\n",
      "\n",
      "Trace:\n",
      "(a_0, b_0) = ( 0.0000000000000000,  5.0000000000000000)\n",
      "(a_1, b_1) = ( 0.0000000000000000,  2.5000000000000000)\n",
      "(a_2, b_2) = ( 2.5000000000000000,  0.3288484010147408)\n",
      "(a_3, b_3) = ( 2.5000000000000000,  0.6710095772322766)\n",
      "(a_4, b_4) = ( 0.6710095772322766,  0.7439342330874568)\n",
      "(a_5, b_5) = ( 0.7439342330874568,  0.7390097975349801)\n",
      "(a_6, b_6) = ( 0.7439342330874568,  0.7390850527545149)\n",
      "(a_7, b_7) = ( 0.7390850527545149,  0.7390851332151640)\n",
      "(a_8, b_8) = ( 0.7390850527545149,  0.7390851332151607)\n",
      "\n"
     ]
    },
    {
     "data": {
      "text/plain": [
       "true"
      ]
     },
     "execution_count": 55,
     "metadata": {},
     "output_type": "execute_result"
    }
   ],
   "source": [
    "x2 = find_zero(f2, (-5, 5), FalsePosition(), verbose=true)\n",
    "iszero(f2(x2))"
   ]
  },
  {
   "cell_type": "code",
   "execution_count": 21,
   "metadata": {},
   "outputs": [
    {
     "data": {
      "image/svg+xml": [
       "<?xml version=\"1.0\" encoding=\"utf-8\"?>\n",
       "<svg xmlns=\"http://www.w3.org/2000/svg\" xmlns:xlink=\"http://www.w3.org/1999/xlink\" width=\"600\" height=\"400\" viewBox=\"0 0 2400 1600\">\n",
       "<defs>\n",
       "  <clipPath id=\"clip3100\">\n",
       "    <rect x=\"0\" y=\"0\" width=\"2000\" height=\"2000\"/>\n",
       "  </clipPath>\n",
       "</defs>\n",
       "<defs>\n",
       "  <clipPath id=\"clip3101\">\n",
       "    <rect x=\"0\" y=\"0\" width=\"2400\" height=\"1600\"/>\n",
       "  </clipPath>\n",
       "</defs>\n",
       "<polygon clip-path=\"url(#clip3101)\" points=\"\n",
       "0,1600 2400,1600 2400,0 0,0 \n",
       "  \" fill=\"#ffffff\" fill-rule=\"evenodd\" fill-opacity=\"1\"/>\n",
       "<defs>\n",
       "  <clipPath id=\"clip3102\">\n",
       "    <rect x=\"480\" y=\"0\" width=\"1681\" height=\"1600\"/>\n",
       "  </clipPath>\n",
       "</defs>\n",
       "<polygon clip-path=\"url(#clip3101)\" points=\"\n",
       "174.775,1503.47 2321.26,1503.47 2321.26,47.2441 174.775,47.2441 \n",
       "  \" fill=\"#ffffff\" fill-rule=\"evenodd\" fill-opacity=\"1\"/>\n",
       "<defs>\n",
       "  <clipPath id=\"clip3103\">\n",
       "    <rect x=\"174\" y=\"47\" width=\"2147\" height=\"1457\"/>\n",
       "  </clipPath>\n",
       "</defs>\n",
       "<polyline clip-path=\"url(#clip3103)\" style=\"stroke:#000000; stroke-width:2; stroke-opacity:0.1; fill:none\" points=\"\n",
       "  436.119,1503.47 436.119,47.2441 \n",
       "  \"/>\n",
       "<polyline clip-path=\"url(#clip3103)\" style=\"stroke:#000000; stroke-width:2; stroke-opacity:0.1; fill:none\" points=\"\n",
       "  847.346,1503.47 847.346,47.2441 \n",
       "  \"/>\n",
       "<polyline clip-path=\"url(#clip3103)\" style=\"stroke:#000000; stroke-width:2; stroke-opacity:0.1; fill:none\" points=\"\n",
       "  1258.57,1503.47 1258.57,47.2441 \n",
       "  \"/>\n",
       "<polyline clip-path=\"url(#clip3103)\" style=\"stroke:#000000; stroke-width:2; stroke-opacity:0.1; fill:none\" points=\"\n",
       "  1669.8,1503.47 1669.8,47.2441 \n",
       "  \"/>\n",
       "<polyline clip-path=\"url(#clip3103)\" style=\"stroke:#000000; stroke-width:2; stroke-opacity:0.1; fill:none\" points=\"\n",
       "  2081.03,1503.47 2081.03,47.2441 \n",
       "  \"/>\n",
       "<polyline clip-path=\"url(#clip3103)\" style=\"stroke:#000000; stroke-width:2; stroke-opacity:0.1; fill:none\" points=\"\n",
       "  174.775,1481.31 2321.26,1481.31 \n",
       "  \"/>\n",
       "<polyline clip-path=\"url(#clip3103)\" style=\"stroke:#000000; stroke-width:2; stroke-opacity:0.1; fill:none\" points=\"\n",
       "  174.775,1007.01 2321.26,1007.01 \n",
       "  \"/>\n",
       "<polyline clip-path=\"url(#clip3103)\" style=\"stroke:#000000; stroke-width:2; stroke-opacity:0.1; fill:none\" points=\"\n",
       "  174.775,532.716 2321.26,532.716 \n",
       "  \"/>\n",
       "<polyline clip-path=\"url(#clip3103)\" style=\"stroke:#000000; stroke-width:2; stroke-opacity:0.1; fill:none\" points=\"\n",
       "  174.775,58.422 2321.26,58.422 \n",
       "  \"/>\n",
       "<polyline clip-path=\"url(#clip3101)\" style=\"stroke:#000000; stroke-width:4; stroke-opacity:1; fill:none\" points=\"\n",
       "  174.775,1503.47 2321.26,1503.47 \n",
       "  \"/>\n",
       "<polyline clip-path=\"url(#clip3101)\" style=\"stroke:#000000; stroke-width:4; stroke-opacity:1; fill:none\" points=\"\n",
       "  174.775,1503.47 174.775,47.2441 \n",
       "  \"/>\n",
       "<polyline clip-path=\"url(#clip3101)\" style=\"stroke:#000000; stroke-width:4; stroke-opacity:1; fill:none\" points=\"\n",
       "  436.119,1503.47 436.119,1481.63 \n",
       "  \"/>\n",
       "<polyline clip-path=\"url(#clip3101)\" style=\"stroke:#000000; stroke-width:4; stroke-opacity:1; fill:none\" points=\"\n",
       "  847.346,1503.47 847.346,1481.63 \n",
       "  \"/>\n",
       "<polyline clip-path=\"url(#clip3101)\" style=\"stroke:#000000; stroke-width:4; stroke-opacity:1; fill:none\" points=\"\n",
       "  1258.57,1503.47 1258.57,1481.63 \n",
       "  \"/>\n",
       "<polyline clip-path=\"url(#clip3101)\" style=\"stroke:#000000; stroke-width:4; stroke-opacity:1; fill:none\" points=\"\n",
       "  1669.8,1503.47 1669.8,1481.63 \n",
       "  \"/>\n",
       "<polyline clip-path=\"url(#clip3101)\" style=\"stroke:#000000; stroke-width:4; stroke-opacity:1; fill:none\" points=\"\n",
       "  2081.03,1503.47 2081.03,1481.63 \n",
       "  \"/>\n",
       "<polyline clip-path=\"url(#clip3101)\" style=\"stroke:#000000; stroke-width:4; stroke-opacity:1; fill:none\" points=\"\n",
       "  174.775,1481.31 206.972,1481.31 \n",
       "  \"/>\n",
       "<polyline clip-path=\"url(#clip3101)\" style=\"stroke:#000000; stroke-width:4; stroke-opacity:1; fill:none\" points=\"\n",
       "  174.775,1007.01 206.972,1007.01 \n",
       "  \"/>\n",
       "<polyline clip-path=\"url(#clip3101)\" style=\"stroke:#000000; stroke-width:4; stroke-opacity:1; fill:none\" points=\"\n",
       "  174.775,532.716 206.972,532.716 \n",
       "  \"/>\n",
       "<polyline clip-path=\"url(#clip3101)\" style=\"stroke:#000000; stroke-width:4; stroke-opacity:1; fill:none\" points=\"\n",
       "  174.775,58.422 206.972,58.422 \n",
       "  \"/>\n",
       "<g clip-path=\"url(#clip3101)\">\n",
       "<text style=\"fill:#000000; fill-opacity:1; font-family:Arial,Helvetica Neue,Helvetica,sans-serif; font-size:48px; text-anchor:middle;\" transform=\"rotate(0, 436.119, 1557.47)\" x=\"436.119\" y=\"1557.47\">-4</text>\n",
       "</g>\n",
       "<g clip-path=\"url(#clip3101)\">\n",
       "<text style=\"fill:#000000; fill-opacity:1; font-family:Arial,Helvetica Neue,Helvetica,sans-serif; font-size:48px; text-anchor:middle;\" transform=\"rotate(0, 847.346, 1557.47)\" x=\"847.346\" y=\"1557.47\">-2</text>\n",
       "</g>\n",
       "<g clip-path=\"url(#clip3101)\">\n",
       "<text style=\"fill:#000000; fill-opacity:1; font-family:Arial,Helvetica Neue,Helvetica,sans-serif; font-size:48px; text-anchor:middle;\" transform=\"rotate(0, 1258.57, 1557.47)\" x=\"1258.57\" y=\"1557.47\">0</text>\n",
       "</g>\n",
       "<g clip-path=\"url(#clip3101)\">\n",
       "<text style=\"fill:#000000; fill-opacity:1; font-family:Arial,Helvetica Neue,Helvetica,sans-serif; font-size:48px; text-anchor:middle;\" transform=\"rotate(0, 1669.8, 1557.47)\" x=\"1669.8\" y=\"1557.47\">2</text>\n",
       "</g>\n",
       "<g clip-path=\"url(#clip3101)\">\n",
       "<text style=\"fill:#000000; fill-opacity:1; font-family:Arial,Helvetica Neue,Helvetica,sans-serif; font-size:48px; text-anchor:middle;\" transform=\"rotate(0, 2081.03, 1557.47)\" x=\"2081.03\" y=\"1557.47\">4</text>\n",
       "</g>\n",
       "<g clip-path=\"url(#clip3101)\">\n",
       "<text style=\"fill:#000000; fill-opacity:1; font-family:Arial,Helvetica Neue,Helvetica,sans-serif; font-size:48px; text-anchor:end;\" transform=\"rotate(0, 150.775, 1498.81)\" x=\"150.775\" y=\"1498.81\">0</text>\n",
       "</g>\n",
       "<g clip-path=\"url(#clip3101)\">\n",
       "<text style=\"fill:#000000; fill-opacity:1; font-family:Arial,Helvetica Neue,Helvetica,sans-serif; font-size:48px; text-anchor:end;\" transform=\"rotate(0, 150.775, 1024.51)\" x=\"150.775\" y=\"1024.51\">50</text>\n",
       "</g>\n",
       "<g clip-path=\"url(#clip3101)\">\n",
       "<text style=\"fill:#000000; fill-opacity:1; font-family:Arial,Helvetica Neue,Helvetica,sans-serif; font-size:48px; text-anchor:end;\" transform=\"rotate(0, 150.775, 550.216)\" x=\"150.775\" y=\"550.216\">100</text>\n",
       "</g>\n",
       "<g clip-path=\"url(#clip3101)\">\n",
       "<text style=\"fill:#000000; fill-opacity:1; font-family:Arial,Helvetica Neue,Helvetica,sans-serif; font-size:48px; text-anchor:end;\" transform=\"rotate(0, 150.775, 75.922)\" x=\"150.775\" y=\"75.922\">150</text>\n",
       "</g>\n",
       "<polyline clip-path=\"url(#clip3103)\" style=\"stroke:#009af9; stroke-width:4; stroke-opacity:1; fill:none\" points=\"\n",
       "  235.525,88.4582 240.545,121.595 245.565,153.932 250.585,185.489 273.793,321.775 297.002,443.514 320.21,552.26 343.418,649.398 366.627,736.168 389.835,813.676 \n",
       "  413.044,882.912 436.252,944.757 464.147,1010.42 492.041,1067.75 519.936,1117.81 547.83,1161.52 594.999,1223.18 642.168,1272.21 693.407,1314.14 744.646,1346.83 \n",
       "  791.884,1370.54 839.121,1389.38 940.409,1417.76 1057.76,1437.14 1162.05,1447.16 1253.5,1452.61 1353.21,1456.35 1453.51,1458.66 1564.4,1460.19 1669.91,1461.05 \n",
       "  1779.62,1461.58 1871.97,1461.85 1984.72,1462.06 2090.71,1462.17 2260.51,1462.26 \n",
       "  \"/>\n",
       "<polygon clip-path=\"url(#clip3101)\" points=\"\n",
       "1947.74,251.724 2249.26,251.724 2249.26,130.764 1947.74,130.764 \n",
       "  \" fill=\"#ffffff\" fill-rule=\"evenodd\" fill-opacity=\"1\"/>\n",
       "<polyline clip-path=\"url(#clip3101)\" style=\"stroke:#000000; stroke-width:4; stroke-opacity:1; fill:none\" points=\"\n",
       "  1947.74,251.724 2249.26,251.724 2249.26,130.764 1947.74,130.764 1947.74,251.724 \n",
       "  \"/>\n",
       "<polyline clip-path=\"url(#clip3101)\" style=\"stroke:#009af9; stroke-width:4; stroke-opacity:1; fill:none\" points=\"\n",
       "  1971.74,191.244 2115.74,191.244 \n",
       "  \"/>\n",
       "<g clip-path=\"url(#clip3101)\">\n",
       "<text style=\"fill:#000000; fill-opacity:1; font-family:Arial,Helvetica Neue,Helvetica,sans-serif; font-size:48px; text-anchor:start;\" transform=\"rotate(0, 2139.74, 208.744)\" x=\"2139.74\" y=\"208.744\">D1</text>\n",
       "</g>\n",
       "</svg>\n"
      ]
     },
     "execution_count": 21,
     "metadata": {},
     "output_type": "execute_result"
    }
   ],
   "source": [
    "# Metoda Newtona\n",
    "\n",
    "D1(f2) = x->ForwardDiff.derivative(f2, float(x))\n",
    "plot(D1(f2), -5, 5, label = \"D1\")"
   ]
  },
  {
   "cell_type": "code",
   "execution_count": 58,
   "metadata": {},
   "outputs": [
    {
     "name": "stdout",
     "output_type": "stream",
     "text": [
      "Results of univariate zero finding:\n",
      "\n",
      "* Converged to: 0.7390851332151607\n",
      "* Algorithm: Roots.Newton()\n",
      "* iterations: 5\n",
      "* function evaluations: 11\n",
      "* stopped as |f(x_n)| ≤ max(δ, max(1,|x|)⋅ϵ) using δ = atol, ϵ = rtol\n",
      "\n",
      "Trace:\n",
      "x_0 =  0.0000000000000000,\t fx_0 =  1.0000000000000000\n",
      "x_1 =  1.0000000000000000,\t fx_1 = -0.4596976941318602\n",
      "x_2 =  0.7503638678402439,\t fx_2 = -0.0189230738221174\n",
      "x_3 =  0.7391128909113617,\t fx_3 = -0.0000464558989908\n",
      "x_4 =  0.7390851333852840,\t fx_4 = -0.0000000002847206\n",
      "x_5 =  0.7390851332151607,\t fx_5 =  0.0000000000000000\n",
      "\n"
     ]
    },
    {
     "data": {
      "text/plain": [
       "true"
      ]
     },
     "execution_count": 58,
     "metadata": {},
     "output_type": "execute_result"
    }
   ],
   "source": [
    "x2 = find_zero((f2, D1(f2)), 0, Roots.Newton(), verbose=true)\n",
    "iszero(f2(x2))"
   ]
  },
  {
   "cell_type": "code",
   "execution_count": 23,
   "metadata": {},
   "outputs": [
    {
     "data": {
      "image/svg+xml": [
       "<?xml version=\"1.0\" encoding=\"utf-8\"?>\n",
       "<svg xmlns=\"http://www.w3.org/2000/svg\" xmlns:xlink=\"http://www.w3.org/1999/xlink\" width=\"600\" height=\"400\" viewBox=\"0 0 2400 1600\">\n",
       "<defs>\n",
       "  <clipPath id=\"clip3500\">\n",
       "    <rect x=\"0\" y=\"0\" width=\"2000\" height=\"2000\"/>\n",
       "  </clipPath>\n",
       "</defs>\n",
       "<defs>\n",
       "  <clipPath id=\"clip3501\">\n",
       "    <rect x=\"0\" y=\"0\" width=\"2400\" height=\"1600\"/>\n",
       "  </clipPath>\n",
       "</defs>\n",
       "<polygon clip-path=\"url(#clip3501)\" points=\"\n",
       "0,1600 2400,1600 2400,0 0,0 \n",
       "  \" fill=\"#ffffff\" fill-rule=\"evenodd\" fill-opacity=\"1\"/>\n",
       "<defs>\n",
       "  <clipPath id=\"clip3502\">\n",
       "    <rect x=\"480\" y=\"0\" width=\"1681\" height=\"1600\"/>\n",
       "  </clipPath>\n",
       "</defs>\n",
       "<polygon clip-path=\"url(#clip3501)\" points=\"\n",
       "189.504,1503.47 2321.26,1503.47 2321.26,47.2441 189.504,47.2441 \n",
       "  \" fill=\"#ffffff\" fill-rule=\"evenodd\" fill-opacity=\"1\"/>\n",
       "<defs>\n",
       "  <clipPath id=\"clip3503\">\n",
       "    <rect x=\"189\" y=\"47\" width=\"2133\" height=\"1457\"/>\n",
       "  </clipPath>\n",
       "</defs>\n",
       "<polyline clip-path=\"url(#clip3503)\" style=\"stroke:#000000; stroke-width:2; stroke-opacity:0.1; fill:none\" points=\"\n",
       "  447.144,1503.47 447.144,47.2441 \n",
       "  \"/>\n",
       "<polyline clip-path=\"url(#clip3503)\" style=\"stroke:#000000; stroke-width:2; stroke-opacity:0.1; fill:none\" points=\"\n",
       "  851.635,1503.47 851.635,47.2441 \n",
       "  \"/>\n",
       "<polyline clip-path=\"url(#clip3503)\" style=\"stroke:#000000; stroke-width:2; stroke-opacity:0.1; fill:none\" points=\"\n",
       "  1256.13,1503.47 1256.13,47.2441 \n",
       "  \"/>\n",
       "<polyline clip-path=\"url(#clip3503)\" style=\"stroke:#000000; stroke-width:2; stroke-opacity:0.1; fill:none\" points=\"\n",
       "  1660.62,1503.47 1660.62,47.2441 \n",
       "  \"/>\n",
       "<polyline clip-path=\"url(#clip3503)\" style=\"stroke:#000000; stroke-width:2; stroke-opacity:0.1; fill:none\" points=\"\n",
       "  2065.11,1503.47 2065.11,47.2441 \n",
       "  \"/>\n",
       "<polyline clip-path=\"url(#clip3503)\" style=\"stroke:#000000; stroke-width:2; stroke-opacity:0.1; fill:none\" points=\"\n",
       "  189.504,1462.47 2321.26,1462.47 \n",
       "  \"/>\n",
       "<polyline clip-path=\"url(#clip3503)\" style=\"stroke:#000000; stroke-width:2; stroke-opacity:0.1; fill:none\" points=\"\n",
       "  189.504,1118.93 2321.26,1118.93 \n",
       "  \"/>\n",
       "<polyline clip-path=\"url(#clip3503)\" style=\"stroke:#000000; stroke-width:2; stroke-opacity:0.1; fill:none\" points=\"\n",
       "  189.504,775.386 2321.26,775.386 \n",
       "  \"/>\n",
       "<polyline clip-path=\"url(#clip3503)\" style=\"stroke:#000000; stroke-width:2; stroke-opacity:0.1; fill:none\" points=\"\n",
       "  189.504,431.845 2321.26,431.845 \n",
       "  \"/>\n",
       "<polyline clip-path=\"url(#clip3503)\" style=\"stroke:#000000; stroke-width:2; stroke-opacity:0.1; fill:none\" points=\"\n",
       "  189.504,88.303 2321.26,88.303 \n",
       "  \"/>\n",
       "<polyline clip-path=\"url(#clip3501)\" style=\"stroke:#000000; stroke-width:4; stroke-opacity:1; fill:none\" points=\"\n",
       "  189.504,1503.47 2321.26,1503.47 \n",
       "  \"/>\n",
       "<polyline clip-path=\"url(#clip3501)\" style=\"stroke:#000000; stroke-width:4; stroke-opacity:1; fill:none\" points=\"\n",
       "  189.504,1503.47 189.504,47.2441 \n",
       "  \"/>\n",
       "<polyline clip-path=\"url(#clip3501)\" style=\"stroke:#000000; stroke-width:4; stroke-opacity:1; fill:none\" points=\"\n",
       "  447.144,1503.47 447.144,1481.63 \n",
       "  \"/>\n",
       "<polyline clip-path=\"url(#clip3501)\" style=\"stroke:#000000; stroke-width:4; stroke-opacity:1; fill:none\" points=\"\n",
       "  851.635,1503.47 851.635,1481.63 \n",
       "  \"/>\n",
       "<polyline clip-path=\"url(#clip3501)\" style=\"stroke:#000000; stroke-width:4; stroke-opacity:1; fill:none\" points=\"\n",
       "  1256.13,1503.47 1256.13,1481.63 \n",
       "  \"/>\n",
       "<polyline clip-path=\"url(#clip3501)\" style=\"stroke:#000000; stroke-width:4; stroke-opacity:1; fill:none\" points=\"\n",
       "  1660.62,1503.47 1660.62,1481.63 \n",
       "  \"/>\n",
       "<polyline clip-path=\"url(#clip3501)\" style=\"stroke:#000000; stroke-width:4; stroke-opacity:1; fill:none\" points=\"\n",
       "  2065.11,1503.47 2065.11,1481.63 \n",
       "  \"/>\n",
       "<polyline clip-path=\"url(#clip3501)\" style=\"stroke:#000000; stroke-width:4; stroke-opacity:1; fill:none\" points=\"\n",
       "  189.504,1462.47 221.48,1462.47 \n",
       "  \"/>\n",
       "<polyline clip-path=\"url(#clip3501)\" style=\"stroke:#000000; stroke-width:4; stroke-opacity:1; fill:none\" points=\"\n",
       "  189.504,1118.93 221.48,1118.93 \n",
       "  \"/>\n",
       "<polyline clip-path=\"url(#clip3501)\" style=\"stroke:#000000; stroke-width:4; stroke-opacity:1; fill:none\" points=\"\n",
       "  189.504,775.386 221.48,775.386 \n",
       "  \"/>\n",
       "<polyline clip-path=\"url(#clip3501)\" style=\"stroke:#000000; stroke-width:4; stroke-opacity:1; fill:none\" points=\"\n",
       "  189.504,431.845 221.48,431.845 \n",
       "  \"/>\n",
       "<polyline clip-path=\"url(#clip3501)\" style=\"stroke:#000000; stroke-width:4; stroke-opacity:1; fill:none\" points=\"\n",
       "  189.504,88.303 221.48,88.303 \n",
       "  \"/>\n",
       "<g clip-path=\"url(#clip3501)\">\n",
       "<text style=\"fill:#000000; fill-opacity:1; font-family:Arial,Helvetica Neue,Helvetica,sans-serif; font-size:48px; text-anchor:middle;\" transform=\"rotate(0, 447.144, 1557.47)\" x=\"447.144\" y=\"1557.47\">-4</text>\n",
       "</g>\n",
       "<g clip-path=\"url(#clip3501)\">\n",
       "<text style=\"fill:#000000; fill-opacity:1; font-family:Arial,Helvetica Neue,Helvetica,sans-serif; font-size:48px; text-anchor:middle;\" transform=\"rotate(0, 851.635, 1557.47)\" x=\"851.635\" y=\"1557.47\">-2</text>\n",
       "</g>\n",
       "<g clip-path=\"url(#clip3501)\">\n",
       "<text style=\"fill:#000000; fill-opacity:1; font-family:Arial,Helvetica Neue,Helvetica,sans-serif; font-size:48px; text-anchor:middle;\" transform=\"rotate(0, 1256.13, 1557.47)\" x=\"1256.13\" y=\"1557.47\">0</text>\n",
       "</g>\n",
       "<g clip-path=\"url(#clip3501)\">\n",
       "<text style=\"fill:#000000; fill-opacity:1; font-family:Arial,Helvetica Neue,Helvetica,sans-serif; font-size:48px; text-anchor:middle;\" transform=\"rotate(0, 1660.62, 1557.47)\" x=\"1660.62\" y=\"1557.47\">2</text>\n",
       "</g>\n",
       "<g clip-path=\"url(#clip3501)\">\n",
       "<text style=\"fill:#000000; fill-opacity:1; font-family:Arial,Helvetica Neue,Helvetica,sans-serif; font-size:48px; text-anchor:middle;\" transform=\"rotate(0, 2065.11, 1557.47)\" x=\"2065.11\" y=\"1557.47\">4</text>\n",
       "</g>\n",
       "<g clip-path=\"url(#clip3501)\">\n",
       "<text style=\"fill:#000000; fill-opacity:1; font-family:Arial,Helvetica Neue,Helvetica,sans-serif; font-size:48px; text-anchor:end;\" transform=\"rotate(0, 165.504, 1479.97)\" x=\"165.504\" y=\"1479.97\">-1.0</text>\n",
       "</g>\n",
       "<g clip-path=\"url(#clip3501)\">\n",
       "<text style=\"fill:#000000; fill-opacity:1; font-family:Arial,Helvetica Neue,Helvetica,sans-serif; font-size:48px; text-anchor:end;\" transform=\"rotate(0, 165.504, 1136.43)\" x=\"165.504\" y=\"1136.43\">-0.5</text>\n",
       "</g>\n",
       "<g clip-path=\"url(#clip3501)\">\n",
       "<text style=\"fill:#000000; fill-opacity:1; font-family:Arial,Helvetica Neue,Helvetica,sans-serif; font-size:48px; text-anchor:end;\" transform=\"rotate(0, 165.504, 792.886)\" x=\"165.504\" y=\"792.886\">0.0</text>\n",
       "</g>\n",
       "<g clip-path=\"url(#clip3501)\">\n",
       "<text style=\"fill:#000000; fill-opacity:1; font-family:Arial,Helvetica Neue,Helvetica,sans-serif; font-size:48px; text-anchor:end;\" transform=\"rotate(0, 165.504, 449.345)\" x=\"165.504\" y=\"449.345\">0.5</text>\n",
       "</g>\n",
       "<g clip-path=\"url(#clip3501)\">\n",
       "<text style=\"fill:#000000; fill-opacity:1; font-family:Arial,Helvetica Neue,Helvetica,sans-serif; font-size:48px; text-anchor:end;\" transform=\"rotate(0, 165.504, 105.803)\" x=\"165.504\" y=\"105.803\">1.0</text>\n",
       "</g>\n",
       "<polyline clip-path=\"url(#clip3503)\" style=\"stroke:#009af9; stroke-width:4; stroke-opacity:1; fill:none\" points=\"\n",
       "  249.837,954.144 254.775,937.895 259.712,921.549 264.65,905.116 310.306,750.798 355.963,597.727 378.791,524.1 401.619,453.671 424.448,387.337 447.276,325.941 \n",
       "  460.995,291.75 474.713,259.783 488.432,230.187 502.151,203.099 515.87,178.643 529.589,156.932 543.307,138.066 557.026,122.131 580.224,102.053 603.423,90.8241 \n",
       "  626.621,88.5921 649.819,95.3862 662.419,102.832 675.019,112.887 687.618,125.513 700.218,140.66 712.818,158.27 725.418,178.275 738.018,200.596 750.618,225.148 \n",
       "  773.85,275.937 797.081,333.31 820.313,396.51 843.545,464.703 893.359,623.501 943.173,791.467 972.031,888.98 1000.89,984.185 1029.75,1075.15 1058.6,1160.02 \n",
       "  1084.25,1228.93 1109.89,1290.56 1122.71,1318.32 1135.54,1343.91 1148.36,1367.21 1161.18,1388.14 1183.67,1418.85 1206.16,1441.61 1228.65,1456.14 1251.14,1462.26 \n",
       "  1263.39,1462.03 1275.65,1459.27 1287.91,1454 1300.17,1446.24 1312.43,1436.01 1324.69,1423.36 1336.95,1408.33 1349.21,1390.97 1373.87,1349.28 1398.54,1299.06 \n",
       "  1423.2,1241.06 1447.86,1176.14 1475.13,1097.48 1502.4,1012.98 1529.67,924.156 1556.94,832.636 1608.83,657.005 1660.72,489.125 1687.7,408.597 1714.68,334.586 \n",
       "  1741.66,268.407 1768.64,211.235 1791.35,170.842 1814.06,138.063 1836.76,113.311 1859.47,96.8987 1873.34,91.0715 1887.2,88.4582 1901.06,89.0711 1914.93,92.9073 \n",
       "  1928.79,99.9489 1942.65,110.163 1956.51,123.501 1970.38,139.9 1983.41,158.04 1996.44,178.741 2009.47,201.919 2022.5,227.476 2035.53,255.308 2048.57,285.299 \n",
       "  2061.6,317.323 2074.63,351.248 2095.51,409.207 2116.38,471.064 2137.26,536.161 2158.14,603.806 2199.89,743.835 2241.65,885.204 2248.08,906.695 2254.5,928.053 \n",
       "  2260.93,949.257 \n",
       "  \"/>\n",
       "<polygon clip-path=\"url(#clip3501)\" points=\"\n",
       "1947.74,251.724 2249.26,251.724 2249.26,130.764 1947.74,130.764 \n",
       "  \" fill=\"#ffffff\" fill-rule=\"evenodd\" fill-opacity=\"1\"/>\n",
       "<polyline clip-path=\"url(#clip3501)\" style=\"stroke:#000000; stroke-width:4; stroke-opacity:1; fill:none\" points=\"\n",
       "  1947.74,251.724 2249.26,251.724 2249.26,130.764 1947.74,130.764 1947.74,251.724 \n",
       "  \"/>\n",
       "<polyline clip-path=\"url(#clip3501)\" style=\"stroke:#009af9; stroke-width:4; stroke-opacity:1; fill:none\" points=\"\n",
       "  1971.74,191.244 2115.74,191.244 \n",
       "  \"/>\n",
       "<g clip-path=\"url(#clip3501)\">\n",
       "<text style=\"fill:#000000; fill-opacity:1; font-family:Arial,Helvetica Neue,Helvetica,sans-serif; font-size:48px; text-anchor:start;\" transform=\"rotate(0, 2139.74, 208.744)\" x=\"2139.74\" y=\"208.744\">D2</text>\n",
       "</g>\n",
       "</svg>\n"
      ]
     },
     "execution_count": 23,
     "metadata": {},
     "output_type": "execute_result"
    }
   ],
   "source": [
    "# Metoda Halleya\n",
    "DD(f2) = x->ForwardDiff.derivative(D1(f2), float(x))\n",
    "plot(DD(f2), -5, 5, label = \"D2\")"
   ]
  },
  {
   "cell_type": "code",
   "execution_count": 24,
   "metadata": {},
   "outputs": [
    {
     "name": "stdout",
     "output_type": "stream",
     "text": [
      "Results of univariate zero finding:\n",
      "\n",
      "* Converged to: 0.7390851332151607\n",
      "* Algorithm: Roots.Halley()\n",
      "* iterations: 5\n",
      "* function evaluations: 18\n",
      "* stopped as |f(x_n)| ≤ max(δ, max(1,|x|)⋅ϵ) using δ = atol, ϵ = rtol\n",
      "\n",
      "Trace:\n",
      "x_0 =  0.0000000000000000,\t fx_0 =  1.0000000000000000\n",
      "x_1 =  0.6666666666666666,\t fx_1 =  0.1192205941102814\n",
      "x_2 =  0.7377167310276259,\t fx_2 =  0.0022894820967262\n",
      "x_3 =  0.7390846110844164,\t fx_3 =  0.0000008738441937\n",
      "x_4 =  0.7390851332150845,\t fx_4 =  0.0000000000001275\n",
      "x_5 =  0.7390851332151607,\t fx_5 =  0.0000000000000000\n",
      "\n"
     ]
    },
    {
     "data": {
      "text/plain": [
       "true"
      ]
     },
     "execution_count": 24,
     "metadata": {},
     "output_type": "execute_result"
    }
   ],
   "source": [
    "x2 = find_zero((f2, D1(f2), D2(f2)), 0.0, Roots.Halley(), verbose=true)\n",
    "iszero(f2(x2))"
   ]
  },
  {
   "cell_type": "code",
   "execution_count": 25,
   "metadata": {},
   "outputs": [
    {
     "name": "stdout",
     "output_type": "stream",
     "text": [
      "Results of univariate zero finding:\n",
      "\n",
      "* Converged to: 0.7390851332151607\n",
      "* Algorithm: Roots.Secant()\n",
      "* iterations: 7\n",
      "* function evaluations: 9\n",
      "* stopped as |f(x_n)| ≤ max(δ, max(1,|x|)⋅ϵ) using δ = atol, ϵ = rtol\n",
      "\n",
      "Trace:\n",
      "x_0 =  0.0000000000000000,\t fx_0 =  1.0000000000000000\n",
      "x_1 =  0.9999969722835395,\t fx_1 = -0.4596921186823245\n",
      "x_2 =  0.6850738998209051,\t fx_2 =  0.0892983907342114\n",
      "x_3 =  0.7362990541607765,\t fx_3 =  0.0046599445167861\n",
      "x_4 =  0.7391193608624661,\t fx_4 = -0.0000572842351875\n",
      "x_5 =  0.7390851121285389,\t fx_5 =  0.0000000352908237\n",
      "x_6 =  0.7390851332150014,\t fx_6 =  0.0000000000002666\n",
      "x_7 =  0.7390851332151607,\t fx_7 =  0.0000000000000000\n",
      "\n"
     ]
    },
    {
     "data": {
      "text/plain": [
       "true"
      ]
     },
     "execution_count": 25,
     "metadata": {},
     "output_type": "execute_result"
    }
   ],
   "source": [
    "x2 = find_zero(f2, 0, Order1(),  verbose=true)\n",
    "iszero(f2(x2))"
   ]
  },
  {
   "cell_type": "code",
   "execution_count": 26,
   "metadata": {},
   "outputs": [
    {
     "name": "stdout",
     "output_type": "stream",
     "text": [
      "Results of univariate zero finding:\n",
      "\n",
      "* Converged to: 0.7390851332151607\n",
      "* Algorithm: Roots.Steffensen()\n",
      "* iterations: 6\n",
      "* function evaluations: 10\n",
      "* stopped as |f(x_n)| ≤ max(δ, max(1,|x|)⋅ϵ) using δ = atol, ϵ = rtol\n",
      "\n",
      "Trace:\n",
      "x_0 =  0.0000000000000000,\t fx_0 =  1.0000000000000000\n",
      "x_1 =  0.9999969722835395,\t fx_1 = -0.4596921186823245\n",
      "x_2 =  0.6850738998209051,\t fx_2 =  0.0892983907342114\n",
      "x_3 =  0.7362990541607765,\t fx_3 =  0.0046599445167861\n",
      "x_4 =  0.7391193608624661,\t fx_4 = -0.0000572842351875\n",
      "x_5 =  0.7390851330409081,\t fx_5 =  0.0000000002916313\n",
      "x_6 =  0.7390851332151607,\t fx_6 =  0.0000000000000000\n",
      "\n"
     ]
    },
    {
     "data": {
      "text/plain": [
       "true"
      ]
     },
     "execution_count": 26,
     "metadata": {},
     "output_type": "execute_result"
    }
   ],
   "source": [
    "x2 = find_zero(f2, 0, Order2(), verbose=true)\n",
    "iszero(f2(x2))"
   ]
  },
  {
   "cell_type": "code",
   "execution_count": null,
   "metadata": {},
   "outputs": [],
   "source": []
  }
 ],
 "metadata": {
  "kernelspec": {
   "display_name": "Julia 1.0.3 (4 threads)",
   "language": "julia",
   "name": "julia-1.0k"
  },
  "language_info": {
   "file_extension": ".jl",
   "mimetype": "application/julia",
   "name": "julia",
   "version": "1.0.3"
  }
 },
 "nbformat": 4,
 "nbformat_minor": 2
}
